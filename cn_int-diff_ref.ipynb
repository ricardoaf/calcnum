{
 "cells": [
  {
   "cell_type": "markdown",
   "id": "cbe32fab",
   "metadata": {},
   "source": [
    "# Lista 05\n",
    "Cálculo Numérico (EAMB018-A / EPET019-A)\n",
    "\n",
    "*Ricardo A. Fernandes*"
   ]
  },
  {
   "cell_type": "markdown",
   "id": "7b79389f",
   "metadata": {},
   "source": [
    "## Integração Numérica"
   ]
  },
  {
   "cell_type": "markdown",
   "id": "d8801a38",
   "metadata": {},
   "source": [
    "### a) Implementação"
   ]
  },
  {
   "cell_type": "code",
   "execution_count": 1,
   "id": "efb65e18",
   "metadata": {},
   "outputs": [],
   "source": [
    "# Regra dos trapézios composta\n",
    "function cn_trap(f, a, b, n=100)\n",
    "    @assert b > a\n",
    "    x = LinRange(a, b, n+1)\n",
    "    (b-a)/n/2 * (f(a) + 2*sum(f.(x[2:n])) + f(b))\n",
    "end;\n",
    "\n",
    "# Regra de 1/3 de Simpson composta\n",
    "function cn_simpson(f, a, b, n=100)\n",
    "    @assert b > a\n",
    "    x = LinRange(a, b, n+1)\n",
    "    (b-a)/n/3 * (f(a) + 4*sum(f.(x[2:2:n])) + 2*sum(f.(x[3:2:n])) + f(b))\n",
    "end;"
   ]
  },
  {
   "cell_type": "markdown",
   "id": "ba838194",
   "metadata": {},
   "source": [
    "### b) Avaliação"
   ]
  },
  {
   "cell_type": "code",
   "execution_count": 2,
   "id": "2325b29e",
   "metadata": {},
   "outputs": [
    {
     "data": {
      "text/plain": [
       "(1.6150425600000013, 1.640096426666667)"
      ]
     },
     "execution_count": 2,
     "metadata": {},
     "output_type": "execute_result"
    }
   ],
   "source": [
    "# See Chapra book (978-0-07-340110-2), Table 19.1 (pg. 473)\n",
    "f(x) = 0.2 + 25x - 200x^2 + 675x^3 - 900x^4 + 400x^5\n",
    "\n",
    "if_trap = cn_trap(f, 0, 0.8, 10)\n",
    "if_simp = cn_simpson(f, 0, 0.8, 10)\n",
    "(if_trap, if_simp)"
   ]
  },
  {
   "cell_type": "markdown",
   "id": "91817ab1",
   "metadata": {},
   "source": [
    "### c) Verificação"
   ]
  },
  {
   "cell_type": "code",
   "execution_count": 3,
   "id": "fe39bb01",
   "metadata": {},
   "outputs": [
    {
     "data": {
      "text/plain": [
       "(1.6405333333333325, 6.439293542825908e-15)"
      ]
     },
     "execution_count": 3,
     "metadata": {},
     "output_type": "execute_result"
    }
   ],
   "source": [
    "using QuadGK\n",
    "integral_f, err_f = quadgk(f, 0, 0.8)"
   ]
  },
  {
   "cell_type": "code",
   "execution_count": 4,
   "id": "60b2c500",
   "metadata": {},
   "outputs": [
    {
     "name": "stdout",
     "output_type": "stream",
     "text": [
      "err int f(x)    [cn_trap]: 1.5538101430427775%\n",
      "err int f(x) [cn_simpson]: 0.026631989596803685%\n"
     ]
    }
   ],
   "source": [
    "errf_trap = abs(if_trap/integral_f - 1)\n",
    "errf_simp = abs(if_simp/integral_f - 1)\n",
    "println(\"err int f(x)    [cn_trap]: \", errf_trap*100, \"%\")\n",
    "println(\"err int f(x) [cn_simpson]: \", errf_simp*100, \"%\")"
   ]
  },
  {
   "cell_type": "markdown",
   "id": "2dedbcca",
   "metadata": {},
   "source": [
    "## Diferenciação Numérica"
   ]
  },
  {
   "cell_type": "markdown",
   "id": "7c45b802",
   "metadata": {},
   "source": [
    "### a) Implementação"
   ]
  },
  {
   "cell_type": "code",
   "execution_count": 5,
   "id": "277237a4",
   "metadata": {},
   "outputs": [],
   "source": [
    "# Método das diferenças finitas anteriores\n",
    "backward_diff(f, a, h) = (  f(a) - f(a-h)) / h\n",
    "\n",
    "# Método das diferenças finitas posteriores\n",
    "forward_diff(f, a, h) = (f(a+h) -   f(a)) / h\n",
    "\n",
    "# Método das diferenças finitas centradas\n",
    "centered_diff(f, a, h) = (f(a+h) - f(a-h)) / (2h);"
   ]
  },
  {
   "cell_type": "markdown",
   "id": "5d38b5d5",
   "metadata": {},
   "source": [
    "### b) Avaliação"
   ]
  },
  {
   "cell_type": "code",
   "execution_count": 6,
   "id": "5aa0818f",
   "metadata": {},
   "outputs": [
    {
     "data": {
      "text/plain": [
       "(-0.7140625000000003, -1.1546875, -0.9343750000000002)"
      ]
     },
     "execution_count": 6,
     "metadata": {},
     "output_type": "execute_result"
    }
   ],
   "source": [
    "# See Chapra book (978-0-07-340110-2), pg. 526\n",
    "f(x) = -0.1x^4 -0.15x^3 - 0.5x^2 -0.25x + 1.2\n",
    "\n",
    "df_b = backward_diff(f, 0.5, 0.25)\n",
    "df_f =  forward_diff(f, 0.5, 0.25)\n",
    "df_c = centered_diff(f, 0.5, 0.25)\n",
    "(df_b, df_f, df_c)"
   ]
  },
  {
   "cell_type": "markdown",
   "id": "5518ea6c",
   "metadata": {},
   "source": [
    "### c) Verificação"
   ]
  },
  {
   "cell_type": "code",
   "execution_count": 7,
   "id": "82684c43",
   "metadata": {},
   "outputs": [
    {
     "data": {
      "text/plain": [
       "-0.9125000000086589"
      ]
     },
     "execution_count": 7,
     "metadata": {},
     "output_type": "execute_result"
    }
   ],
   "source": [
    "using Calculus\n",
    "df = derivative(f, 0.5)"
   ]
  },
  {
   "cell_type": "code",
   "execution_count": 8,
   "id": "80561174",
   "metadata": {},
   "outputs": [
    {
     "name": "stdout",
     "output_type": "stream",
     "text": [
      "err diff f(x) [backward_diff]: 21.746575343208285%\n",
      "err diff f(x)  [forward_diff]: 26.541095889210187%\n",
      "err diff f(x) [centered_diff]: 2.3972602730009562%\n"
     ]
    }
   ],
   "source": [
    "errf_b = abs(df_b/df - 1)\n",
    "errf_f = abs(df_f/df - 1)\n",
    "errf_c = abs(df_c/df - 1)\n",
    "println(\"err diff f(x) [backward_diff]: \", errf_b*100, \"%\")\n",
    "println(\"err diff f(x)  [forward_diff]: \", errf_f*100, \"%\")\n",
    "println(\"err diff f(x) [centered_diff]: \", errf_c*100, \"%\")"
   ]
  }
 ],
 "metadata": {
  "kernelspec": {
   "display_name": "Julia 1.6.0",
   "language": "julia",
   "name": "julia-1.6"
  },
  "language_info": {
   "file_extension": ".jl",
   "mimetype": "application/julia",
   "name": "julia",
   "version": "1.6.0"
  }
 },
 "nbformat": 4,
 "nbformat_minor": 5
}
