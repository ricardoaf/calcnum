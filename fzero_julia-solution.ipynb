{
 "cells": [
  {
   "cell_type": "markdown",
   "id": "major-output",
   "metadata": {},
   "source": [
    "# Solução da Lista de Zero de Funções"
   ]
  },
  {
   "cell_type": "markdown",
   "id": "sophisticated-participant",
   "metadata": {},
   "source": [
    "## Métricas de Erros"
   ]
  },
  {
   "cell_type": "code",
   "execution_count": 1,
   "id": "lesbian-figure",
   "metadata": {},
   "outputs": [],
   "source": [
    "# Erro baseado no valor absoluto da função f\n",
    "function err_f(f, x_history)\n",
    "    return abs(f(x_history[end]))\n",
    "end;"
   ]
  },
  {
   "cell_type": "code",
   "execution_count": 2,
   "id": "solved-sailing",
   "metadata": {},
   "outputs": [],
   "source": [
    "# Erro baseado no incremento do valor de x\n",
    "function err_dx(f, x_history)\n",
    "    if length(x_history) > 1\n",
    "        return abs(x_history[end] - x_history[end-1])\n",
    "    else\n",
    "        return err_f(f, x_history)\n",
    "    end\n",
    "end;"
   ]
  },
  {
   "cell_type": "code",
   "execution_count": 3,
   "id": "unusual-essence",
   "metadata": {},
   "outputs": [],
   "source": [
    "# Erro baseado no incremento relativo do valor de x\n",
    "function err_rel(f, x_history)\n",
    "    if length(x_history) > 1\n",
    "        if abs(x_history[end]) < 1e-15\n",
    "            return err_dx(f, x_history)\n",
    "        else\n",
    "            return abs(1 - x_history[end-1] / x_history[end])\n",
    "        end\n",
    "    else\n",
    "        return err_f(f, x_history)\n",
    "    end\n",
    "end;"
   ]
  },
  {
   "cell_type": "markdown",
   "id": "neither-world",
   "metadata": {},
   "source": [
    "## Método da Bisseção"
   ]
  },
  {
   "cell_type": "code",
   "execution_count": 4,
   "id": "bound-strap",
   "metadata": {},
   "outputs": [],
   "source": [
    "function cn_bisection(f, a, b; err=x->err_f(f,x), tol=1e-4, nitemax=100)\n",
    "    \n",
    "    # Inicializa número de iterações e valor da variável x\n",
    "    nite = 0\n",
    "    x = (a + b) / 2.\n",
    "        \n",
    "    # Checa condição de existência de raiz\n",
    "    if f(a) * f(b) > 0\n",
    "        println(\"O método da bisseção não pode ser utilizado\")\n",
    "        return x, nite\n",
    "    end\n",
    "    \n",
    "    # Inicializa vetor com histórico dos valores de x\n",
    "    x_history = zeros(nitemax + 1)\n",
    "    x_history[1] = x\n",
    "\n",
    "    # Iterações\n",
    "    while err(x_history[1:nite+1]) > tol && nite < nitemax\n",
    "        \n",
    "        # Atualiza os limites a, b\n",
    "        if f(a) * f(x) > 0\n",
    "            a = x\n",
    "        else\n",
    "            b = x\n",
    "        end\n",
    "\n",
    "        # Atualiza variável e número de iterações\n",
    "        x = (a + b) / 2.\n",
    "        nite = nite + 1\n",
    "        \n",
    "        # Atualiza histórico da variável x\n",
    "        x_history[nite + 1] = x\n",
    "    end\n",
    "    \n",
    "    # Retorna valor da variável e número de iterações\n",
    "    return x_history[1 : nite + 1], nite\n",
    "    \n",
    "end;"
   ]
  },
  {
   "cell_type": "markdown",
   "id": "local-punishment",
   "metadata": {},
   "source": [
    "## Método das Cordas"
   ]
  },
  {
   "cell_type": "code",
   "execution_count": 5,
   "id": "focused-clothing",
   "metadata": {},
   "outputs": [],
   "source": [
    "function cn_cordas(f, a, b; err=x->err_f(f,x), tol=1e-4, nitemax=100)\n",
    "    \n",
    "    # Inicializa número de iterações e valor da variável x\n",
    "    nite = 0\n",
    "    x = (b * f(a) - a * f(b)) / (f(a) - f(b))\n",
    "        \n",
    "    # Checa condição de existência de raiz\n",
    "    if f(a) * f(b) > 0\n",
    "        println(\"O método das cordas não pode ser utilizado\")\n",
    "        return x, nite\n",
    "    end\n",
    "    \n",
    "    # Inicializa vetor com histórico dos valores de x\n",
    "    x_history = zeros(nitemax + 1)\n",
    "    x_history[1] = x\n",
    "\n",
    "    # Iterações\n",
    "    while err(x_history[1:nite+1]) > tol && nite < nitemax\n",
    "        \n",
    "        # Atualiza os limites a, b\n",
    "        if f(a) * f(x) > 0\n",
    "            a = x\n",
    "        else\n",
    "            b = x\n",
    "        end\n",
    "\n",
    "        # Atualiza variável e número de iterações\n",
    "        x = (b * f(a) - a * f(b)) / (f(a) - f(b))\n",
    "        nite = nite + 1\n",
    "        \n",
    "        # Atualiza histórico da variável x\n",
    "        x_history[nite + 1] = x\n",
    "    end\n",
    "    \n",
    "    # Retorna valor da variável e número de iterações\n",
    "    return x_history[1 : nite + 1], nite\n",
    "    \n",
    "end;"
   ]
  },
  {
   "cell_type": "markdown",
   "id": "muslim-payday",
   "metadata": {},
   "source": [
    "## Método de Newton- Raphson"
   ]
  },
  {
   "cell_type": "code",
   "execution_count": 6,
   "id": "functional-bundle",
   "metadata": {},
   "outputs": [],
   "source": [
    "function cn_newton(f, df, x; err=x->err_f(f,x), tol=1e-4, nitemax=100)\n",
    "    \n",
    "    # Inicializa número de iterações\n",
    "    nite = 0\n",
    "    \n",
    "    # Inicializa vetor com histórico dos valores de x\n",
    "    x_history = zeros(nitemax + 1)\n",
    "    x_history[1] = x\n",
    "\n",
    "    # Iterações\n",
    "    while err(x_history[1:nite+1]) > tol && nite < nitemax\n",
    "        \n",
    "        # Atualiza variável e número de iterações\n",
    "        x = x - f(x) / df(x)\n",
    "        nite = nite + 1\n",
    "        \n",
    "        # Atualiza histórico da variável x\n",
    "        x_history[nite + 1] = x\n",
    "    end\n",
    "    \n",
    "    # Retorna valor da variável e número de iterações\n",
    "    return x_history[1 : nite + 1], nite\n",
    "    \n",
    "end;"
   ]
  },
  {
   "cell_type": "markdown",
   "id": "synthetic-wednesday",
   "metadata": {},
   "source": [
    "## Questão 1"
   ]
  },
  {
   "attachments": {
    "image.png": {
     "image/png": "[encoded data removed]"
    }
   },
   "cell_type": "markdown",
   "id": "constitutional-transaction",
   "metadata": {},
   "source": [
    "![image.png](attachment:image.png)"
   ]
  },
  {
   "cell_type": "markdown",
   "id": "expected-stupid",
   "metadata": {},
   "source": [
    "## Questão 2"
   ]
  },
  {
   "attachments": {
    "image.png": {
     "image/png": "[encoded data removed]"
    }
   },
   "cell_type": "markdown",
   "id": "present-burlington",
   "metadata": {},
   "source": [
    "![image.png](attachment:image.png)"
   ]
  },
  {
   "cell_type": "markdown",
   "id": "affecting-presence",
   "metadata": {},
   "source": [
    "## Questão 3"
   ]
  },
  {
   "cell_type": "code",
   "execution_count": 7,
   "id": "prerequisite-differential",
   "metadata": {},
   "outputs": [],
   "source": [
    "V3(r, L, h) = (r^2 * acos((r-h)/r) - (r-h)*sqrt(2*r*h - h^2)) * L\n",
    "f3(h) = V3(2., 5., h) - 8.;"
   ]
  },
  {
   "cell_type": "code",
   "execution_count": 8,
   "id": "assumed-exchange",
   "metadata": {},
   "outputs": [
    {
     "data": {
      "text/plain": [
       "([0.5, 0.75, 0.625, 0.6875, 0.71875, 0.734375, 0.7421875, 0.73828125, 0.740234375, 0.7392578125, 0.73974609375, 0.739990234375, 0.7401123046875, 0.74005126953125, 0.740020751953125], 14)"
      ]
     },
     "execution_count": 8,
     "metadata": {},
     "output_type": "execute_result"
    }
   ],
   "source": [
    "x_b, nite_b = cn_bisection(f3, 0., 1., tol=1e-4)"
   ]
  },
  {
   "cell_type": "markdown",
   "id": "measured-contributor",
   "metadata": {},
   "source": [
    "## Questão 4"
   ]
  },
  {
   "cell_type": "code",
   "execution_count": 9,
   "id": "color-divorce",
   "metadata": {},
   "outputs": [],
   "source": [
    "ω, y_0 = 10., 5.\n",
    "y4(x, T_A) = T_A / ω * cosh(ω/T_A * x) + y_0 - T_A / ω\n",
    "\n",
    "f4(T_A) = y4(50., T_A) - 15.;\n",
    "using ForwardDiff\n",
    "df4(T_A) = ForwardDiff.derivative(f4, T_A);"
   ]
  },
  {
   "cell_type": "code",
   "execution_count": 10,
   "id": "polyphonic-feature",
   "metadata": {},
   "outputs": [
    {
     "data": {
      "text/plain": [
       "([2500.0, 1250.0, 1875.0, 1562.5, 1406.25, 1328.125, 1289.0625, 1269.53125, 1259.765625, 1264.6484375, 1267.08984375, 1265.869140625, 1266.4794921875, 1266.17431640625, 1266.326904296875], 14)"
      ]
     },
     "execution_count": 10,
     "metadata": {},
     "output_type": "execute_result"
    }
   ],
   "source": [
    "x_b, nite_b = cn_bisection(f4, eps(), 5_000., tol=1e-4)"
   ]
  },
  {
   "cell_type": "code",
   "execution_count": 11,
   "id": "intended-methodology",
   "metadata": {},
   "outputs": [
    {
     "data": {
      "text/plain": [
       "([2366.3773431387986, 1965.1233527725926, 1710.7093053724777, 1549.1837133514866, 1446.5027222123897, 1381.1590880209815, 1339.5414852555548, 1313.0190510362615, 1296.1094820284877, 1285.32559755777  …  1266.8462988138774, 1266.6573972461497, 1266.5368638110099, 1266.4599542233511, 1266.410879929875, 1266.3795666884278, 1266.359586377068, 1266.3468373618705, 1266.338702482274, 1266.3335117851827], 26)"
      ]
     },
     "execution_count": 11,
     "metadata": {},
     "output_type": "execute_result"
    }
   ],
   "source": [
    "x_c, nite_c = cn_cordas(f4, 500., 3_000., tol=1e-4)"
   ]
  },
  {
   "cell_type": "code",
   "execution_count": 12,
   "id": "fallen-triumph",
   "metadata": {},
   "outputs": [
    {
     "data": {
      "text/plain": [
       "([100.0, 124.2473030158206, 162.263892859291, 226.26321392239365, 339.44428576745474, 533.8356166386474, 815.1111880557784, 1097.4584206494756, 1242.8668795556916, 1265.8730616524995, 1266.3241934259265], 10)"
      ]
     },
     "execution_count": 12,
     "metadata": {},
     "output_type": "execute_result"
    }
   ],
   "source": [
    "x_n, nite_n = cn_newton(f4, df4, 100.)"
   ]
  },
  {
   "cell_type": "code",
   "execution_count": 13,
   "id": "premier-backing",
   "metadata": {},
   "outputs": [
    {
     "data": {
      "text/plain": [
       "1266.3241934259265"
      ]
     },
     "execution_count": 13,
     "metadata": {},
     "output_type": "execute_result"
    }
   ],
   "source": [
    "T_A = x_n[end]"
   ]
  },
  {
   "cell_type": "code",
   "execution_count": 14,
   "id": "international-alberta",
   "metadata": {},
   "outputs": [
    {
     "data": {
      "image/svg+xml": [
       "<?xml version=\"1.0\" encoding=\"utf-8\"?>\n",
       "<svg xmlns=\"http://www.w3.org/2000/svg\" xmlns:xlink=\"http://www.w3.org/1999/xlink\" width=\"600\" height=\"400\" viewBox=\"0 0 2400 1600\">\n",
       "<defs>\n",
       "  <clipPath id=\"clip030\">\n",
       "    <rect x=\"0\" y=\"0\" width=\"2400\" height=\"1600\"/>\n",
       "  </clipPath>\n",
       "</defs>\n",
       "<path clip-path=\"url(#clip030)\" d=\"\n",
       "M0 1600 L2400 1600 L2400 0 L0 0  Z\n",
       "  \" fill=\"#ffffff\" fill-rule=\"evenodd\" fill-opacity=\"1\"/>\n",
       "<defs>\n",
       "  <clipPath id=\"clip031\">\n",
       "    <rect x=\"480\" y=\"0\" width=\"1681\" height=\"1600\"/>\n",
       "  </clipPath>\n",
       "</defs>\n",
       "<path clip-path=\"url(#clip030)\" d=\"\n",
       "M202.459 1423.18 L2352.76 1423.18 L2352.76 47.2441 L202.459 47.2441  Z\n",
       "  \" fill=\"#ffffff\" fill-rule=\"evenodd\" fill-opacity=\"1\"/>\n",
       "<defs>\n",
       "  <clipPath id=\"clip032\">\n",
       "    <rect x=\"202\" y=\"47\" width=\"2151\" height=\"1377\"/>\n",
       "  </clipPath>\n",
       "</defs>\n",
       "<polyline clip-path=\"url(#clip032)\" style=\"stroke:#000000; stroke-width:2; stroke-opacity:0.1; fill:none\" points=\"\n",
       "  533.794,1423.18 533.794,47.2441 \n",
       "  \"/>\n",
       "<polyline clip-path=\"url(#clip032)\" style=\"stroke:#000000; stroke-width:2; stroke-opacity:0.1; fill:none\" points=\"\n",
       "  939.51,1423.18 939.51,47.2441 \n",
       "  \"/>\n",
       "<polyline clip-path=\"url(#clip032)\" style=\"stroke:#000000; stroke-width:2; stroke-opacity:0.1; fill:none\" points=\"\n",
       "  1345.23,1423.18 1345.23,47.2441 \n",
       "  \"/>\n",
       "<polyline clip-path=\"url(#clip032)\" style=\"stroke:#000000; stroke-width:2; stroke-opacity:0.1; fill:none\" points=\"\n",
       "  1750.94,1423.18 1750.94,47.2441 \n",
       "  \"/>\n",
       "<polyline clip-path=\"url(#clip032)\" style=\"stroke:#000000; stroke-width:2; stroke-opacity:0.1; fill:none\" points=\"\n",
       "  2156.66,1423.18 2156.66,47.2441 \n",
       "  \"/>\n",
       "<polyline clip-path=\"url(#clip030)\" style=\"stroke:#000000; stroke-width:4; stroke-opacity:1; fill:none\" points=\"\n",
       "  202.459,1423.18 2352.76,1423.18 \n",
       "  \"/>\n",
       "<polyline clip-path=\"url(#clip030)\" style=\"stroke:#000000; stroke-width:4; stroke-opacity:1; fill:none\" points=\"\n",
       "  533.794,1423.18 533.794,1406.67 \n",
       "  \"/>\n",
       "<polyline clip-path=\"url(#clip030)\" style=\"stroke:#000000; stroke-width:4; stroke-opacity:1; fill:none\" points=\"\n",
       "  939.51,1423.18 939.51,1406.67 \n",
       "  \"/>\n",
       "<polyline clip-path=\"url(#clip030)\" style=\"stroke:#000000; stroke-width:4; stroke-opacity:1; fill:none\" points=\"\n",
       "  1345.23,1423.18 1345.23,1406.67 \n",
       "  \"/>\n",
       "<polyline clip-path=\"url(#clip030)\" style=\"stroke:#000000; stroke-width:4; stroke-opacity:1; fill:none\" points=\"\n",
       "  1750.94,1423.18 1750.94,1406.67 \n",
       "  \"/>\n",
       "<polyline clip-path=\"url(#clip030)\" style=\"stroke:#000000; stroke-width:4; stroke-opacity:1; fill:none\" points=\"\n",
       "  2156.66,1423.18 2156.66,1406.67 \n",
       "  \"/>\n",
       "<path clip-path=\"url(#clip030)\" d=\"M 0 0 M492.266 1467.02 L521.942 1467.02 L521.942 1470.96 L492.266 1470.96 L492.266 1467.02 Z\" fill=\"#000000\" fill-rule=\"evenodd\" fill-opacity=\"1\" /><path clip-path=\"url(#clip030)\" d=\"M 0 0 M541.178 1465.22 Q544.535 1465.94 546.41 1468.2 Q548.308 1470.47 548.308 1473.81 Q548.308 1478.92 544.789 1481.72 Q541.271 1484.52 534.789 1484.52 Q532.613 1484.52 530.299 1484.08 Q528.007 1483.67 525.553 1482.81 L525.553 1478.3 Q527.498 1479.43 529.813 1480.01 Q532.127 1480.59 534.65 1480.59 Q539.049 1480.59 541.34 1478.85 Q543.655 1477.12 543.655 1473.81 Q543.655 1470.75 541.502 1469.04 Q539.373 1467.3 535.553 1467.3 L531.526 1467.3 L531.526 1463.46 L535.738 1463.46 Q539.188 1463.46 541.016 1462.09 Q542.845 1460.7 542.845 1458.11 Q542.845 1455.45 540.947 1454.04 Q539.072 1452.6 535.553 1452.6 Q533.632 1452.6 531.433 1453.02 Q529.234 1453.44 526.595 1454.31 L526.595 1450.15 Q529.257 1449.41 531.572 1449.04 Q533.91 1448.67 535.97 1448.67 Q541.294 1448.67 544.396 1451.1 Q547.498 1453.5 547.498 1457.63 Q547.498 1460.5 545.854 1462.49 Q544.211 1464.45 541.178 1465.22 Z\" fill=\"#000000\" fill-rule=\"evenodd\" fill-opacity=\"1\" /><path clip-path=\"url(#clip030)\" d=\"M 0 0 M563.377 1452.37 Q559.766 1452.37 557.937 1455.94 Q556.132 1459.48 556.132 1466.61 Q556.132 1473.71 557.937 1477.28 Q559.766 1480.82 563.377 1480.82 Q567.011 1480.82 568.817 1477.28 Q570.646 1473.71 570.646 1466.61 Q570.646 1459.48 568.817 1455.94 Q567.011 1452.37 563.377 1452.37 M563.377 1448.67 Q569.187 1448.67 572.243 1453.27 Q575.322 1457.86 575.322 1466.61 Q575.322 1475.33 572.243 1479.94 Q569.187 1484.52 563.377 1484.52 Q557.567 1484.52 554.488 1479.94 Q551.433 1475.33 551.433 1466.61 Q551.433 1457.86 554.488 1453.27 Q557.567 1448.67 563.377 1448.67 Z\" fill=\"#000000\" fill-rule=\"evenodd\" fill-opacity=\"1\" /><path clip-path=\"url(#clip030)\" d=\"M 0 0 M939.51 1452.37 Q935.899 1452.37 934.071 1455.94 Q932.265 1459.48 932.265 1466.61 Q932.265 1473.71 934.071 1477.28 Q935.899 1480.82 939.51 1480.82 Q943.145 1480.82 944.95 1477.28 Q946.779 1473.71 946.779 1466.61 Q946.779 1459.48 944.95 1455.94 Q943.145 1452.37 939.51 1452.37 M939.51 1448.67 Q945.321 1448.67 948.376 1453.27 Q951.455 1457.86 951.455 1466.61 Q951.455 1475.33 948.376 1479.94 Q945.321 1484.52 939.51 1484.52 Q933.7 1484.52 930.622 1479.94 Q927.566 1475.33 927.566 1466.61 Q927.566 1457.86 930.622 1453.27 Q933.7 1448.67 939.51 1448.67 Z\" fill=\"#000000\" fill-rule=\"evenodd\" fill-opacity=\"1\" /><path clip-path=\"url(#clip030)\" d=\"M 0 0 M1335.97 1465.22 Q1339.32 1465.94 1341.2 1468.2 Q1343.1 1470.47 1343.1 1473.81 Q1343.1 1478.92 1339.58 1481.72 Q1336.06 1484.52 1329.58 1484.52 Q1327.4 1484.52 1325.09 1484.08 Q1322.8 1483.67 1320.34 1482.81 L1320.34 1478.3 Q1322.29 1479.43 1324.6 1480.01 Q1326.92 1480.59 1329.44 1480.59 Q1333.84 1480.59 1336.13 1478.85 Q1338.44 1477.12 1338.44 1473.81 Q1338.44 1470.75 1336.29 1469.04 Q1334.16 1467.3 1330.34 1467.3 L1326.31 1467.3 L1326.31 1463.46 L1330.53 1463.46 Q1333.98 1463.46 1335.81 1462.09 Q1337.63 1460.7 1337.63 1458.11 Q1337.63 1455.45 1335.74 1454.04 Q1333.86 1452.6 1330.34 1452.6 Q1328.42 1452.6 1326.22 1453.02 Q1324.02 1453.44 1321.38 1454.31 L1321.38 1450.15 Q1324.05 1449.41 1326.36 1449.04 Q1328.7 1448.67 1330.76 1448.67 Q1336.08 1448.67 1339.19 1451.1 Q1342.29 1453.5 1342.29 1457.63 Q1342.29 1460.5 1340.64 1462.49 Q1339 1464.45 1335.97 1465.22 Z\" fill=\"#000000\" fill-rule=\"evenodd\" fill-opacity=\"1\" /><path clip-path=\"url(#clip030)\" d=\"M 0 0 M1358.17 1452.37 Q1354.56 1452.37 1352.73 1455.94 Q1350.92 1459.48 1350.92 1466.61 Q1350.92 1473.71 1352.73 1477.28 Q1354.56 1480.82 1358.17 1480.82 Q1361.8 1480.82 1363.61 1477.28 Q1365.44 1473.71 1365.44 1466.61 Q1365.44 1459.48 1363.61 1455.94 Q1361.8 1452.37 1358.17 1452.37 M1358.17 1448.67 Q1363.98 1448.67 1367.03 1453.27 Q1370.11 1457.86 1370.11 1466.61 Q1370.11 1475.33 1367.03 1479.94 Q1363.98 1484.52 1358.17 1484.52 Q1352.36 1484.52 1349.28 1479.94 Q1346.22 1475.33 1346.22 1466.61 Q1346.22 1457.86 1349.28 1453.27 Q1352.36 1448.67 1358.17 1448.67 Z\" fill=\"#000000\" fill-rule=\"evenodd\" fill-opacity=\"1\" /><path clip-path=\"url(#clip030)\" d=\"M 0 0 M1737.84 1464.71 Q1734.69 1464.71 1732.84 1466.86 Q1731.01 1469.01 1731.01 1472.76 Q1731.01 1476.49 1732.84 1478.67 Q1734.69 1480.82 1737.84 1480.82 Q1740.99 1480.82 1742.82 1478.67 Q1744.67 1476.49 1744.67 1472.76 Q1744.67 1469.01 1742.82 1466.86 Q1740.99 1464.71 1737.84 1464.71 M1747.12 1450.06 L1747.12 1454.31 Q1745.36 1453.48 1743.56 1453.04 Q1741.78 1452.6 1740.02 1452.6 Q1735.39 1452.6 1732.93 1455.73 Q1730.5 1458.85 1730.16 1465.17 Q1731.52 1463.16 1733.58 1462.09 Q1735.64 1461 1738.12 1461 Q1743.33 1461 1746.34 1464.18 Q1749.37 1467.32 1749.37 1472.76 Q1749.37 1478.09 1746.22 1481.31 Q1743.07 1484.52 1737.84 1484.52 Q1731.85 1484.52 1728.67 1479.94 Q1725.5 1475.33 1725.5 1466.61 Q1725.5 1458.41 1729.39 1453.55 Q1733.28 1448.67 1739.83 1448.67 Q1741.59 1448.67 1743.37 1449.01 Q1745.18 1449.36 1747.12 1450.06 Z\" fill=\"#000000\" fill-rule=\"evenodd\" fill-opacity=\"1\" /><path clip-path=\"url(#clip030)\" d=\"M 0 0 M1764.44 1452.37 Q1760.83 1452.37 1759 1455.94 Q1757.19 1459.48 1757.19 1466.61 Q1757.19 1473.71 1759 1477.28 Q1760.83 1480.82 1764.44 1480.82 Q1768.07 1480.82 1769.88 1477.28 Q1771.71 1473.71 1771.71 1466.61 Q1771.71 1459.48 1769.88 1455.94 Q1768.07 1452.37 1764.44 1452.37 M1764.44 1448.67 Q1770.25 1448.67 1773.3 1453.27 Q1776.38 1457.86 1776.38 1466.61 Q1776.38 1475.33 1773.3 1479.94 Q1770.25 1484.52 1764.44 1484.52 Q1758.63 1484.52 1755.55 1479.94 Q1752.49 1475.33 1752.49 1466.61 Q1752.49 1457.86 1755.55 1453.27 Q1758.63 1448.67 1764.44 1448.67 Z\" fill=\"#000000\" fill-rule=\"evenodd\" fill-opacity=\"1\" /><path clip-path=\"url(#clip030)\" d=\"M 0 0 M2133.45 1483.13 L2133.45 1478.88 Q2135.21 1479.71 2137.02 1480.15 Q2138.82 1480.59 2140.56 1480.59 Q2145.19 1480.59 2147.62 1477.49 Q2150.07 1474.36 2150.42 1468.02 Q2149.08 1470.01 2147.02 1471.07 Q2144.96 1472.14 2142.46 1472.14 Q2137.27 1472.14 2134.24 1469.01 Q2131.23 1465.87 2131.23 1460.43 Q2131.23 1455.1 2134.38 1451.88 Q2137.53 1448.67 2142.76 1448.67 Q2148.75 1448.67 2151.9 1453.27 Q2155.07 1457.86 2155.07 1466.61 Q2155.07 1474.78 2151.19 1479.66 Q2147.32 1484.52 2140.77 1484.52 Q2139.01 1484.52 2137.2 1484.18 Q2135.4 1483.83 2133.45 1483.13 M2142.76 1468.48 Q2145.91 1468.48 2147.74 1466.33 Q2149.59 1464.18 2149.59 1460.43 Q2149.59 1456.7 2147.74 1454.55 Q2145.91 1452.37 2142.76 1452.37 Q2139.61 1452.37 2137.76 1454.55 Q2135.93 1456.7 2135.93 1460.43 Q2135.93 1464.18 2137.76 1466.33 Q2139.61 1468.48 2142.76 1468.48 Z\" fill=\"#000000\" fill-rule=\"evenodd\" fill-opacity=\"1\" /><path clip-path=\"url(#clip030)\" d=\"M 0 0 M2170.14 1452.37 Q2166.53 1452.37 2164.7 1455.94 Q2162.9 1459.48 2162.9 1466.61 Q2162.9 1473.71 2164.7 1477.28 Q2166.53 1480.82 2170.14 1480.82 Q2173.78 1480.82 2175.58 1477.28 Q2177.41 1473.71 2177.41 1466.61 Q2177.41 1459.48 2175.58 1455.94 Q2173.78 1452.37 2170.14 1452.37 M2170.14 1448.67 Q2175.95 1448.67 2179.01 1453.27 Q2182.09 1457.86 2182.09 1466.61 Q2182.09 1475.33 2179.01 1479.94 Q2175.95 1484.52 2170.14 1484.52 Q2164.33 1484.52 2161.25 1479.94 Q2158.2 1475.33 2158.2 1466.61 Q2158.2 1457.86 2161.25 1453.27 Q2164.33 1448.67 2170.14 1448.67 Z\" fill=\"#000000\" fill-rule=\"evenodd\" fill-opacity=\"1\" /><path clip-path=\"url(#clip030)\" d=\"M 0 0 M1294.22 1532.4 L1281.33 1549.74 L1294.89 1568.04 L1287.98 1568.04 L1277.61 1554.04 L1267.23 1568.04 L1260.32 1568.04 L1274.17 1549.39 L1261.5 1532.4 L1268.41 1532.4 L1277.86 1545.1 L1287.32 1532.4 L1294.22 1532.4 Z\" fill=\"#000000\" fill-rule=\"evenodd\" fill-opacity=\"1\" /><polyline clip-path=\"url(#clip032)\" style=\"stroke:#000000; stroke-width:2; stroke-opacity:0.1; fill:none\" points=\"\n",
       "  202.459,1228.49 2352.76,1228.49 \n",
       "  \"/>\n",
       "<polyline clip-path=\"url(#clip032)\" style=\"stroke:#000000; stroke-width:2; stroke-opacity:0.1; fill:none\" points=\"\n",
       "  202.459,916.211 2352.76,916.211 \n",
       "  \"/>\n",
       "<polyline clip-path=\"url(#clip032)\" style=\"stroke:#000000; stroke-width:2; stroke-opacity:0.1; fill:none\" points=\"\n",
       "  202.459,603.929 2352.76,603.929 \n",
       "  \"/>\n",
       "<polyline clip-path=\"url(#clip032)\" style=\"stroke:#000000; stroke-width:2; stroke-opacity:0.1; fill:none\" points=\"\n",
       "  202.459,291.648 2352.76,291.648 \n",
       "  \"/>\n",
       "<polyline clip-path=\"url(#clip030)\" style=\"stroke:#000000; stroke-width:4; stroke-opacity:1; fill:none\" points=\"\n",
       "  202.459,1423.18 202.459,47.2441 \n",
       "  \"/>\n",
       "<polyline clip-path=\"url(#clip030)\" style=\"stroke:#000000; stroke-width:4; stroke-opacity:1; fill:none\" points=\"\n",
       "  202.459,1228.49 228.263,1228.49 \n",
       "  \"/>\n",
       "<polyline clip-path=\"url(#clip030)\" style=\"stroke:#000000; stroke-width:4; stroke-opacity:1; fill:none\" points=\"\n",
       "  202.459,916.211 228.263,916.211 \n",
       "  \"/>\n",
       "<polyline clip-path=\"url(#clip030)\" style=\"stroke:#000000; stroke-width:4; stroke-opacity:1; fill:none\" points=\"\n",
       "  202.459,603.929 228.263,603.929 \n",
       "  \"/>\n",
       "<polyline clip-path=\"url(#clip030)\" style=\"stroke:#000000; stroke-width:4; stroke-opacity:1; fill:none\" points=\"\n",
       "  202.459,291.648 228.263,291.648 \n",
       "  \"/>\n",
       "<path clip-path=\"url(#clip030)\" d=\"M 0 0 M119.538 1241.84 L127.177 1241.84 L127.177 1215.47 L118.867 1217.14 L118.867 1212.88 L127.13 1211.21 L131.806 1211.21 L131.806 1241.84 L139.445 1241.84 L139.445 1245.77 L119.538 1245.77 L119.538 1241.84 Z\" fill=\"#000000\" fill-rule=\"evenodd\" fill-opacity=\"1\" /><path clip-path=\"url(#clip030)\" d=\"M 0 0 M154.515 1214.29 Q150.903 1214.29 149.075 1217.86 Q147.269 1221.4 147.269 1228.53 Q147.269 1235.63 149.075 1239.2 Q150.903 1242.74 154.515 1242.74 Q158.149 1242.74 159.954 1239.2 Q161.783 1235.63 161.783 1228.53 Q161.783 1221.4 159.954 1217.86 Q158.149 1214.29 154.515 1214.29 M154.515 1210.59 Q160.325 1210.59 163.38 1215.19 Q166.459 1219.78 166.459 1228.53 Q166.459 1237.25 163.38 1241.86 Q160.325 1246.44 154.515 1246.44 Q148.704 1246.44 145.626 1241.86 Q142.57 1237.25 142.57 1228.53 Q142.57 1219.78 145.626 1215.19 Q148.704 1210.59 154.515 1210.59 Z\" fill=\"#000000\" fill-rule=\"evenodd\" fill-opacity=\"1\" /><path clip-path=\"url(#clip030)\" d=\"M 0 0 M123.126 929.555 L139.445 929.555 L139.445 933.491 L117.501 933.491 L117.501 929.555 Q120.163 926.801 124.746 922.171 Q129.353 917.519 130.533 916.176 Q132.779 913.653 133.658 911.917 Q134.561 910.157 134.561 908.468 Q134.561 905.713 132.617 903.977 Q130.695 902.241 127.593 902.241 Q125.394 902.241 122.941 903.005 Q120.51 903.769 117.732 905.32 L117.732 900.597 Q120.556 899.463 123.01 898.884 Q125.464 898.306 127.501 898.306 Q132.871 898.306 136.066 900.991 Q139.26 903.676 139.26 908.167 Q139.26 910.296 138.45 912.218 Q137.663 914.116 135.556 916.708 Q134.978 917.38 131.876 920.597 Q128.774 923.792 123.126 929.555 Z\" fill=\"#000000\" fill-rule=\"evenodd\" fill-opacity=\"1\" /><path clip-path=\"url(#clip030)\" d=\"M 0 0 M154.515 902.009 Q150.903 902.009 149.075 905.574 Q147.269 909.116 147.269 916.245 Q147.269 923.352 149.075 926.917 Q150.903 930.458 154.515 930.458 Q158.149 930.458 159.954 926.917 Q161.783 923.352 161.783 916.245 Q161.783 909.116 159.954 905.574 Q158.149 902.009 154.515 902.009 M154.515 898.306 Q160.325 898.306 163.38 902.912 Q166.459 907.495 166.459 916.245 Q166.459 924.972 163.38 929.579 Q160.325 934.162 154.515 934.162 Q148.704 934.162 145.626 929.579 Q142.57 924.972 142.57 916.245 Q142.57 907.495 145.626 902.912 Q148.704 898.306 154.515 898.306 Z\" fill=\"#000000\" fill-rule=\"evenodd\" fill-opacity=\"1\" /><path clip-path=\"url(#clip030)\" d=\"M 0 0 M132.316 602.575 Q135.672 603.293 137.547 605.561 Q139.445 607.83 139.445 611.163 Q139.445 616.279 135.927 619.079 Q132.408 621.88 125.927 621.88 Q123.751 621.88 121.436 621.441 Q119.144 621.024 116.691 620.167 L116.691 615.654 Q118.635 616.788 120.95 617.367 Q123.265 617.945 125.788 617.945 Q130.186 617.945 132.478 616.209 Q134.792 614.473 134.792 611.163 Q134.792 608.107 132.64 606.394 Q130.51 604.658 126.691 604.658 L122.663 604.658 L122.663 600.816 L126.876 600.816 Q130.325 600.816 132.154 599.45 Q133.982 598.061 133.982 595.469 Q133.982 592.806 132.084 591.394 Q130.209 589.959 126.691 589.959 Q124.769 589.959 122.57 590.376 Q120.371 590.793 117.732 591.672 L117.732 587.506 Q120.394 586.765 122.709 586.394 Q125.047 586.024 127.107 586.024 Q132.431 586.024 135.533 588.455 Q138.635 590.862 138.635 594.982 Q138.635 597.853 136.992 599.843 Q135.348 601.811 132.316 602.575 Z\" fill=\"#000000\" fill-rule=\"evenodd\" fill-opacity=\"1\" /><path clip-path=\"url(#clip030)\" d=\"M 0 0 M154.515 589.728 Q150.903 589.728 149.075 593.293 Q147.269 596.834 147.269 603.964 Q147.269 611.07 149.075 614.635 Q150.903 618.177 154.515 618.177 Q158.149 618.177 159.954 614.635 Q161.783 611.07 161.783 603.964 Q161.783 596.834 159.954 593.293 Q158.149 589.728 154.515 589.728 M154.515 586.024 Q160.325 586.024 163.38 590.631 Q166.459 595.214 166.459 603.964 Q166.459 612.691 163.38 617.297 Q160.325 621.88 154.515 621.88 Q148.704 621.88 145.626 617.297 Q142.57 612.691 142.57 603.964 Q142.57 595.214 145.626 590.631 Q148.704 586.024 154.515 586.024 Z\" fill=\"#000000\" fill-rule=\"evenodd\" fill-opacity=\"1\" /><path clip-path=\"url(#clip030)\" d=\"M 0 0 M129.862 278.442 L118.056 296.891 L129.862 296.891 L129.862 278.442 M128.635 274.368 L134.515 274.368 L134.515 296.891 L139.445 296.891 L139.445 300.779 L134.515 300.779 L134.515 308.928 L129.862 308.928 L129.862 300.779 L114.26 300.779 L114.26 296.266 L128.635 274.368 Z\" fill=\"#000000\" fill-rule=\"evenodd\" fill-opacity=\"1\" /><path clip-path=\"url(#clip030)\" d=\"M 0 0 M154.515 277.446 Q150.903 277.446 149.075 281.011 Q147.269 284.553 147.269 291.682 Q147.269 298.789 149.075 302.354 Q150.903 305.895 154.515 305.895 Q158.149 305.895 159.954 302.354 Q161.783 298.789 161.783 291.682 Q161.783 284.553 159.954 281.011 Q158.149 277.446 154.515 277.446 M154.515 273.743 Q160.325 273.743 163.38 278.349 Q166.459 282.932 166.459 291.682 Q166.459 300.409 163.38 305.016 Q160.325 309.599 154.515 309.599 Q148.704 309.599 145.626 305.016 Q142.57 300.409 142.57 291.682 Q142.57 282.932 145.626 278.349 Q148.704 273.743 154.515 273.743 Z\" fill=\"#000000\" fill-rule=\"evenodd\" fill-opacity=\"1\" /><path clip-path=\"url(#clip030)\" d=\"M 0 0 M67.3143 733.525 Q73.68 736.008 75.6216 738.363 Q77.5631 740.718 77.5631 744.665 L77.5631 749.344 L72.6615 749.344 L72.6615 745.906 Q72.6615 743.487 71.5157 742.151 Q70.3699 740.814 66.1048 739.191 L63.4312 738.14 L28.3562 752.559 L28.3562 746.352 L56.238 735.212 L28.3562 724.072 L28.3562 717.865 L67.3143 733.525 Z\" fill=\"#000000\" fill-rule=\"evenodd\" fill-opacity=\"1\" /><polyline clip-path=\"url(#clip032)\" style=\"stroke:#009af9; stroke-width:4; stroke-opacity:1; fill:none\" points=\"\n",
       "  263.316,1072.35 273.222,1081.55 283.127,1090.6 374.717,1167.62 466.306,1232.71 521.348,1266.16 576.389,1295.41 622.926,1316.87 669.463,1335.37 770.567,1365.38 \n",
       "  863.777,1380.77 963.707,1384.24 1079.49,1371.42 1182.38,1344.8 1272.6,1309.6 1370.97,1258.47 1469.93,1193.44 1524.63,1151.57 1579.33,1105.42 1631.38,1057.5 \n",
       "  1683.43,1005.63 1791.67,884.882 1882.78,769.462 1938.4,692.668 1994.02,610.972 2046.31,529.629 2098.59,443.803 2182.35,296.757 2266.12,137.645 2279.01,112.064 \n",
       "  2291.9,86.1857 \n",
       "  \"/>\n",
       "<path clip-path=\"url(#clip030)\" d=\"\n",
       "M1961.3 214.069 L2281.08 214.069 L2281.08 93.1086 L1961.3 93.1086  Z\n",
       "  \" fill=\"#ffffff\" fill-rule=\"evenodd\" fill-opacity=\"1\"/>\n",
       "<polyline clip-path=\"url(#clip030)\" style=\"stroke:#000000; stroke-width:4; stroke-opacity:1; fill:none\" points=\"\n",
       "  1961.3,214.069 2281.08,214.069 2281.08,93.1086 1961.3,93.1086 1961.3,214.069 \n",
       "  \"/>\n",
       "<polyline clip-path=\"url(#clip030)\" style=\"stroke:#009af9; stroke-width:4; stroke-opacity:1; fill:none\" points=\"\n",
       "  1985.19,153.589 2128.55,153.589 \n",
       "  \"/>\n",
       "<path clip-path=\"url(#clip030)\" d=\"M 0 0 M2166.28 173.276 Q2164.48 177.906 2162.76 179.318 Q2161.05 180.73 2158.18 180.73 L2154.78 180.73 L2154.78 177.165 L2157.28 177.165 Q2159.04 177.165 2160.01 176.332 Q2160.98 175.498 2162.16 172.396 L2162.92 170.452 L2152.44 144.943 L2156.95 144.943 L2165.05 165.221 L2173.16 144.943 L2177.67 144.943 L2166.28 173.276 Z\" fill=\"#000000\" fill-rule=\"evenodd\" fill-opacity=\"1\" /><path clip-path=\"url(#clip030)\" d=\"M 0 0 M2192.37 134.897 Q2189.27 140.221 2187.76 145.429 Q2186.26 150.637 2186.26 155.984 Q2186.26 161.332 2187.76 166.586 Q2189.29 171.818 2192.37 177.119 L2188.67 177.119 Q2185.19 171.679 2183.46 166.424 Q2181.74 161.17 2181.74 155.984 Q2181.74 150.822 2183.46 145.591 Q2185.17 140.36 2188.67 134.897 L2192.37 134.897 Z\" fill=\"#000000\" fill-rule=\"evenodd\" fill-opacity=\"1\" /><path clip-path=\"url(#clip030)\" d=\"M 0 0 M2218.39 144.943 L2209.01 157.559 L2218.87 170.869 L2213.85 170.869 L2206.3 160.683 L2198.76 170.869 L2193.73 170.869 L2203.8 157.304 L2194.59 144.943 L2199.61 144.943 L2206.49 154.179 L2213.36 144.943 L2218.39 144.943 Z\" fill=\"#000000\" fill-rule=\"evenodd\" fill-opacity=\"1\" /><path clip-path=\"url(#clip030)\" d=\"M 0 0 M2222.67 134.897 L2226.37 134.897 Q2229.85 140.36 2231.56 145.591 Q2233.29 150.822 2233.29 155.984 Q2233.29 161.17 2231.56 166.424 Q2229.85 171.679 2226.37 177.119 L2222.67 177.119 Q2225.75 171.818 2227.25 166.586 Q2228.78 161.332 2228.78 155.984 Q2228.78 150.637 2227.25 145.429 Q2225.75 140.221 2222.67 134.897 Z\" fill=\"#000000\" fill-rule=\"evenodd\" fill-opacity=\"1\" /></svg>\n"
      ]
     },
     "execution_count": 14,
     "metadata": {},
     "output_type": "execute_result"
    }
   ],
   "source": [
    "using Plots\n",
    "gr(xlabel=\"x\", ylabel=\"y\")\n",
    "plot(x -> y4(x, T_A), -50., 100., label=\"y(x)\")"
   ]
  },
  {
   "cell_type": "markdown",
   "id": "israeli-paste",
   "metadata": {},
   "source": [
    "## Questão 5"
   ]
  },
  {
   "cell_type": "code",
   "execution_count": 15,
   "id": "smooth-positive",
   "metadata": {},
   "outputs": [],
   "source": [
    "f5(d, k_1, k_2, m, g, h) = 2/5*k_2*d^2.5 + 0.5*k_1*d^2 - m*g*d - m*g*h\n",
    "f5(d) = f(d, 40_000., 40., 95., 9.81, 0.43);"
   ]
  },
  {
   "cell_type": "code",
   "execution_count": 16,
   "id": "adaptive-miracle",
   "metadata": {},
   "outputs": [
    {
     "ename": "LoadError",
     "evalue": "\u001b[91mUndefVarError: f not defined\u001b[39m",
     "output_type": "error",
     "traceback": [
      "\u001b[91mUndefVarError: f not defined\u001b[39m",
      "",
      "Stacktrace:",
      " [1] f5(::Float64) at .\\In[15]:2",
      " [2] cn_cordas(::typeof(f5), ::Float64, ::Float64; err::var\"#8#10\"{typeof(f5)}, tol::Float64, nitemax::Int64) at .\\In[5]:5",
      " [3] top-level scope at In[16]:1",
      " [4] include_string(::Function, ::Module, ::String, ::String) at .\\loading.jl:1091"
     ]
    }
   ],
   "source": [
    "x_c, nite_c = cn_cordas(f5, 0., 1., tol=1e-4)"
   ]
  },
  {
   "cell_type": "markdown",
   "id": "earlier-tracker",
   "metadata": {},
   "source": [
    "## Questão 6"
   ]
  },
  {
   "cell_type": "code",
   "execution_count": 17,
   "id": "shared-entrance",
   "metadata": {},
   "outputs": [],
   "source": [
    "y6(x, v_0, y_0, g, θ_0) = x * tan(θ_0) - g/(2*v_0^2 * cos(θ_0)^2) * x^2 + y_0\n",
    "f6(θ_0) = y6(90., 30., 1.8, 9.81, θ_0) - 1.;"
   ]
  },
  {
   "cell_type": "code",
   "execution_count": 18,
   "id": "numeric-survey",
   "metadata": {},
   "outputs": [
    {
     "data": {
      "text/plain": [
       "([0.39269908169872403, 0.589048622548086, 0.687223392972767, 0.6381360077604266, 0.6626797003665967, 0.6504078540635116, 0.6565437772150542, 0.6596117387908255, 0.6611457195787112, 0.661912709972654, 0.6622962051696253, 0.662487952768111, 0.6625838265673538, 0.6625358896677325, 0.6625119212179218], 14)"
      ]
     },
     "execution_count": 18,
     "metadata": {},
     "output_type": "execute_result"
    }
   ],
   "source": [
    "x_b, nite_b = cn_bisection(f6, 0., pi/4-eps(), tol=1e-4)"
   ]
  },
  {
   "cell_type": "code",
   "execution_count": 19,
   "id": "protecting-century",
   "metadata": {},
   "outputs": [
    {
     "data": {
      "text/plain": [
       "([1.1780972450961724, 0.9817477042468105, 0.8835729338221294, 0.93266031903447, 0.9081166264282997, 0.8958447801252145, 0.9019807032767571, 0.8989127417009858, 0.9004467224888715, 0.8996797320949286, 0.8992962368979571, 0.8994879844964428, 0.8993921106972, 0.8994400475968214, 0.8994160791470107, 0.8994040949221054, 0.8993981028096527], 16)"
      ]
     },
     "execution_count": 19,
     "metadata": {},
     "output_type": "execute_result"
    }
   ],
   "source": [
    "x_b, nite_b = cn_bisection(f6, pi/4+eps(), pi/2-eps(), tol=1e-4)"
   ]
  },
  {
   "cell_type": "code",
   "execution_count": 20,
   "id": "resident-repeat",
   "metadata": {},
   "outputs": [
    {
     "data": {
      "image/svg+xml": [
       "<?xml version=\"1.0\" encoding=\"utf-8\"?>\n",
       "<svg xmlns=\"http://www.w3.org/2000/svg\" xmlns:xlink=\"http://www.w3.org/1999/xlink\" width=\"600\" height=\"400\" viewBox=\"0 0 2400 1600\">\n",
       "<defs>\n",
       "  <clipPath id=\"clip070\">\n",
       "    <rect x=\"0\" y=\"0\" width=\"2400\" height=\"1600\"/>\n",
       "  </clipPath>\n",
       "</defs>\n",
       "<path clip-path=\"url(#clip070)\" d=\"\n",
       "M0 1600 L2400 1600 L2400 0 L0 0  Z\n",
       "  \" fill=\"#ffffff\" fill-rule=\"evenodd\" fill-opacity=\"1\"/>\n",
       "<defs>\n",
       "  <clipPath id=\"clip071\">\n",
       "    <rect x=\"480\" y=\"0\" width=\"1681\" height=\"1600\"/>\n",
       "  </clipPath>\n",
       "</defs>\n",
       "<path clip-path=\"url(#clip070)\" d=\"\n",
       "M207.112 1423.18 L2352.76 1423.18 L2352.76 47.2441 L207.112 47.2441  Z\n",
       "  \" fill=\"#ffffff\" fill-rule=\"evenodd\" fill-opacity=\"1\"/>\n",
       "<defs>\n",
       "  <clipPath id=\"clip072\">\n",
       "    <rect x=\"207\" y=\"47\" width=\"2147\" height=\"1377\"/>\n",
       "  </clipPath>\n",
       "</defs>\n",
       "<polyline clip-path=\"url(#clip072)\" style=\"stroke:#000000; stroke-width:2; stroke-opacity:0.1; fill:none\" points=\"\n",
       "  267.837,1423.18 267.837,47.2441 \n",
       "  \"/>\n",
       "<polyline clip-path=\"url(#clip072)\" style=\"stroke:#000000; stroke-width:2; stroke-opacity:0.1; fill:none\" points=\"\n",
       "  672.676,1423.18 672.676,47.2441 \n",
       "  \"/>\n",
       "<polyline clip-path=\"url(#clip072)\" style=\"stroke:#000000; stroke-width:2; stroke-opacity:0.1; fill:none\" points=\"\n",
       "  1077.51,1423.18 1077.51,47.2441 \n",
       "  \"/>\n",
       "<polyline clip-path=\"url(#clip072)\" style=\"stroke:#000000; stroke-width:2; stroke-opacity:0.1; fill:none\" points=\"\n",
       "  1482.35,1423.18 1482.35,47.2441 \n",
       "  \"/>\n",
       "<polyline clip-path=\"url(#clip072)\" style=\"stroke:#000000; stroke-width:2; stroke-opacity:0.1; fill:none\" points=\"\n",
       "  1887.19,1423.18 1887.19,47.2441 \n",
       "  \"/>\n",
       "<polyline clip-path=\"url(#clip072)\" style=\"stroke:#000000; stroke-width:2; stroke-opacity:0.1; fill:none\" points=\"\n",
       "  2292.03,1423.18 2292.03,47.2441 \n",
       "  \"/>\n",
       "<polyline clip-path=\"url(#clip070)\" style=\"stroke:#000000; stroke-width:4; stroke-opacity:1; fill:none\" points=\"\n",
       "  207.112,1423.18 2352.76,1423.18 \n",
       "  \"/>\n",
       "<polyline clip-path=\"url(#clip070)\" style=\"stroke:#000000; stroke-width:4; stroke-opacity:1; fill:none\" points=\"\n",
       "  267.837,1423.18 267.837,1406.67 \n",
       "  \"/>\n",
       "<polyline clip-path=\"url(#clip070)\" style=\"stroke:#000000; stroke-width:4; stroke-opacity:1; fill:none\" points=\"\n",
       "  672.676,1423.18 672.676,1406.67 \n",
       "  \"/>\n",
       "<polyline clip-path=\"url(#clip070)\" style=\"stroke:#000000; stroke-width:4; stroke-opacity:1; fill:none\" points=\"\n",
       "  1077.51,1423.18 1077.51,1406.67 \n",
       "  \"/>\n",
       "<polyline clip-path=\"url(#clip070)\" style=\"stroke:#000000; stroke-width:4; stroke-opacity:1; fill:none\" points=\"\n",
       "  1482.35,1423.18 1482.35,1406.67 \n",
       "  \"/>\n",
       "<polyline clip-path=\"url(#clip070)\" style=\"stroke:#000000; stroke-width:4; stroke-opacity:1; fill:none\" points=\"\n",
       "  1887.19,1423.18 1887.19,1406.67 \n",
       "  \"/>\n",
       "<polyline clip-path=\"url(#clip070)\" style=\"stroke:#000000; stroke-width:4; stroke-opacity:1; fill:none\" points=\"\n",
       "  2292.03,1423.18 2292.03,1406.67 \n",
       "  \"/>\n",
       "<path clip-path=\"url(#clip070)\" d=\"M 0 0 M249.851 1452.37 Q246.24 1452.37 244.412 1455.94 Q242.606 1459.48 242.606 1466.61 Q242.606 1473.71 244.412 1477.28 Q246.24 1480.82 249.851 1480.82 Q253.486 1480.82 255.291 1477.28 Q257.12 1473.71 257.12 1466.61 Q257.12 1459.48 255.291 1455.94 Q253.486 1452.37 249.851 1452.37 M249.851 1448.67 Q255.662 1448.67 258.717 1453.27 Q261.796 1457.86 261.796 1466.61 Q261.796 1475.33 258.717 1479.94 Q255.662 1484.52 249.851 1484.52 Q244.041 1484.52 240.963 1479.94 Q237.907 1475.33 237.907 1466.61 Q237.907 1457.86 240.963 1453.27 Q244.041 1448.67 249.851 1448.67 Z\" fill=\"#000000\" fill-rule=\"evenodd\" fill-opacity=\"1\" /><path clip-path=\"url(#clip070)\" d=\"M 0 0 M266.865 1477.97 L271.75 1477.97 L271.75 1483.85 L266.865 1483.85 L266.865 1477.97 Z\" fill=\"#000000\" fill-rule=\"evenodd\" fill-opacity=\"1\" /><path clip-path=\"url(#clip070)\" d=\"M 0 0 M276.865 1449.29 L295.222 1449.29 L295.222 1453.23 L281.148 1453.23 L281.148 1461.7 Q282.166 1461.35 283.185 1461.19 Q284.203 1461 285.222 1461 Q291.009 1461 294.388 1464.18 Q297.768 1467.35 297.768 1472.76 Q297.768 1478.34 294.296 1481.44 Q290.823 1484.52 284.504 1484.52 Q282.328 1484.52 280.06 1484.15 Q277.814 1483.78 275.407 1483.04 L275.407 1478.34 Q277.49 1479.48 279.712 1480.03 Q281.935 1480.59 284.411 1480.59 Q288.416 1480.59 290.754 1478.48 Q293.092 1476.38 293.092 1472.76 Q293.092 1469.15 290.754 1467.05 Q288.416 1464.94 284.411 1464.94 Q282.536 1464.94 280.661 1465.36 Q278.81 1465.77 276.865 1466.65 L276.865 1449.29 Z\" fill=\"#000000\" fill-rule=\"evenodd\" fill-opacity=\"1\" /><path clip-path=\"url(#clip070)\" d=\"M 0 0 M654.111 1452.37 Q650.5 1452.37 648.672 1455.94 Q646.866 1459.48 646.866 1466.61 Q646.866 1473.71 648.672 1477.28 Q650.5 1480.82 654.111 1480.82 Q657.746 1480.82 659.551 1477.28 Q661.38 1473.71 661.38 1466.61 Q661.38 1459.48 659.551 1455.94 Q657.746 1452.37 654.111 1452.37 M654.111 1448.67 Q659.921 1448.67 662.977 1453.27 Q666.056 1457.86 666.056 1466.61 Q666.056 1475.33 662.977 1479.94 Q659.921 1484.52 654.111 1484.52 Q648.301 1484.52 645.222 1479.94 Q642.167 1475.33 642.167 1466.61 Q642.167 1457.86 645.222 1453.27 Q648.301 1448.67 654.111 1448.67 Z\" fill=\"#000000\" fill-rule=\"evenodd\" fill-opacity=\"1\" /><path clip-path=\"url(#clip070)\" d=\"M 0 0 M671.125 1477.97 L676.009 1477.97 L676.009 1483.85 L671.125 1483.85 L671.125 1477.97 Z\" fill=\"#000000\" fill-rule=\"evenodd\" fill-opacity=\"1\" /><path clip-path=\"url(#clip070)\" d=\"M 0 0 M691.657 1464.71 Q688.509 1464.71 686.657 1466.86 Q684.829 1469.01 684.829 1472.76 Q684.829 1476.49 686.657 1478.67 Q688.509 1480.82 691.657 1480.82 Q694.806 1480.82 696.634 1478.67 Q698.486 1476.49 698.486 1472.76 Q698.486 1469.01 696.634 1466.86 Q694.806 1464.71 691.657 1464.71 M700.94 1450.06 L700.94 1454.31 Q699.181 1453.48 697.375 1453.04 Q695.593 1452.6 693.833 1452.6 Q689.204 1452.6 686.75 1455.73 Q684.319 1458.85 683.972 1465.17 Q685.338 1463.16 687.398 1462.09 Q689.458 1461 691.935 1461 Q697.143 1461 700.153 1464.18 Q703.185 1467.32 703.185 1472.76 Q703.185 1478.09 700.037 1481.31 Q696.889 1484.52 691.657 1484.52 Q685.662 1484.52 682.491 1479.94 Q679.319 1475.33 679.319 1466.61 Q679.319 1458.41 683.208 1453.55 Q687.097 1448.67 693.648 1448.67 Q695.407 1448.67 697.19 1449.01 Q698.995 1449.36 700.94 1450.06 Z\" fill=\"#000000\" fill-rule=\"evenodd\" fill-opacity=\"1\" /><path clip-path=\"url(#clip070)\" d=\"M 0 0 M1059.48 1452.37 Q1055.87 1452.37 1054.04 1455.94 Q1052.24 1459.48 1052.24 1466.61 Q1052.24 1473.71 1054.04 1477.28 Q1055.87 1480.82 1059.48 1480.82 Q1063.12 1480.82 1064.92 1477.28 Q1066.75 1473.71 1066.75 1466.61 Q1066.75 1459.48 1064.92 1455.94 Q1063.12 1452.37 1059.48 1452.37 M1059.48 1448.67 Q1065.29 1448.67 1068.35 1453.27 Q1071.43 1457.86 1071.43 1466.61 Q1071.43 1475.33 1068.35 1479.94 Q1065.29 1484.52 1059.48 1484.52 Q1053.67 1484.52 1050.59 1479.94 Q1047.54 1475.33 1047.54 1466.61 Q1047.54 1457.86 1050.59 1453.27 Q1053.67 1448.67 1059.48 1448.67 Z\" fill=\"#000000\" fill-rule=\"evenodd\" fill-opacity=\"1\" /><path clip-path=\"url(#clip070)\" d=\"M 0 0 M1076.5 1477.97 L1081.38 1477.97 L1081.38 1483.85 L1076.5 1483.85 L1076.5 1477.97 Z\" fill=\"#000000\" fill-rule=\"evenodd\" fill-opacity=\"1\" /><path clip-path=\"url(#clip070)\" d=\"M 0 0 M1085.27 1449.29 L1107.49 1449.29 L1107.49 1451.28 L1094.95 1483.85 L1090.06 1483.85 L1101.87 1453.23 L1085.27 1453.23 L1085.27 1449.29 Z\" fill=\"#000000\" fill-rule=\"evenodd\" fill-opacity=\"1\" /><path clip-path=\"url(#clip070)\" d=\"M 0 0 M1463.92 1452.37 Q1460.3 1452.37 1458.48 1455.94 Q1456.67 1459.48 1456.67 1466.61 Q1456.67 1473.71 1458.48 1477.28 Q1460.3 1480.82 1463.92 1480.82 Q1467.55 1480.82 1469.36 1477.28 Q1471.18 1473.71 1471.18 1466.61 Q1471.18 1459.48 1469.36 1455.94 Q1467.55 1452.37 1463.92 1452.37 M1463.92 1448.67 Q1469.73 1448.67 1472.78 1453.27 Q1475.86 1457.86 1475.86 1466.61 Q1475.86 1475.33 1472.78 1479.94 Q1469.73 1484.52 1463.92 1484.52 Q1458.11 1484.52 1455.03 1479.94 Q1451.97 1475.33 1451.97 1466.61 Q1451.97 1457.86 1455.03 1453.27 Q1458.11 1448.67 1463.92 1448.67 Z\" fill=\"#000000\" fill-rule=\"evenodd\" fill-opacity=\"1\" /><path clip-path=\"url(#clip070)\" d=\"M 0 0 M1480.93 1477.97 L1485.81 1477.97 L1485.81 1483.85 L1480.93 1483.85 L1480.93 1477.97 Z\" fill=\"#000000\" fill-rule=\"evenodd\" fill-opacity=\"1\" /><path clip-path=\"url(#clip070)\" d=\"M 0 0 M1500.88 1467.44 Q1497.55 1467.44 1495.63 1469.22 Q1493.73 1471 1493.73 1474.13 Q1493.73 1477.25 1495.63 1479.04 Q1497.55 1480.82 1500.88 1480.82 Q1504.22 1480.82 1506.14 1479.04 Q1508.06 1477.23 1508.06 1474.13 Q1508.06 1471 1506.14 1469.22 Q1504.24 1467.44 1500.88 1467.44 M1496.21 1465.45 Q1493.2 1464.71 1491.51 1462.65 Q1489.84 1460.59 1489.84 1457.63 Q1489.84 1453.48 1492.78 1451.07 Q1495.74 1448.67 1500.88 1448.67 Q1506.05 1448.67 1508.98 1451.07 Q1511.92 1453.48 1511.92 1457.63 Q1511.92 1460.59 1510.23 1462.65 Q1508.57 1464.71 1505.58 1465.45 Q1508.96 1466.24 1510.84 1468.53 Q1512.73 1470.82 1512.73 1474.13 Q1512.73 1479.15 1509.66 1481.84 Q1506.6 1484.52 1500.88 1484.52 Q1495.17 1484.52 1492.09 1481.84 Q1489.03 1479.15 1489.03 1474.13 Q1489.03 1470.82 1490.93 1468.53 Q1492.83 1466.24 1496.21 1465.45 M1494.49 1458.06 Q1494.49 1460.75 1496.16 1462.25 Q1497.85 1463.76 1500.88 1463.76 Q1503.89 1463.76 1505.58 1462.25 Q1507.3 1460.75 1507.3 1458.06 Q1507.3 1455.38 1505.58 1453.88 Q1503.89 1452.37 1500.88 1452.37 Q1497.85 1452.37 1496.16 1453.88 Q1494.49 1455.38 1494.49 1458.06 Z\" fill=\"#000000\" fill-rule=\"evenodd\" fill-opacity=\"1\" /><path clip-path=\"url(#clip070)\" d=\"M 0 0 M1868.8 1452.37 Q1865.19 1452.37 1863.36 1455.94 Q1861.56 1459.48 1861.56 1466.61 Q1861.56 1473.71 1863.36 1477.28 Q1865.19 1480.82 1868.8 1480.82 Q1872.43 1480.82 1874.24 1477.28 Q1876.07 1473.71 1876.07 1466.61 Q1876.07 1459.48 1874.24 1455.94 Q1872.43 1452.37 1868.8 1452.37 M1868.8 1448.67 Q1874.61 1448.67 1877.67 1453.27 Q1880.74 1457.86 1880.74 1466.61 Q1880.74 1475.33 1877.67 1479.94 Q1874.61 1484.52 1868.8 1484.52 Q1862.99 1484.52 1859.91 1479.94 Q1856.86 1475.33 1856.86 1466.61 Q1856.86 1457.86 1859.91 1453.27 Q1862.99 1448.67 1868.8 1448.67 Z\" fill=\"#000000\" fill-rule=\"evenodd\" fill-opacity=\"1\" /><path clip-path=\"url(#clip070)\" d=\"M 0 0 M1885.81 1477.97 L1890.7 1477.97 L1890.7 1483.85 L1885.81 1483.85 L1885.81 1477.97 Z\" fill=\"#000000\" fill-rule=\"evenodd\" fill-opacity=\"1\" /><path clip-path=\"url(#clip070)\" d=\"M 0 0 M1895.91 1483.13 L1895.91 1478.88 Q1897.67 1479.71 1899.47 1480.15 Q1901.28 1480.59 1903.01 1480.59 Q1907.64 1480.59 1910.07 1477.49 Q1912.53 1474.36 1912.87 1468.02 Q1911.53 1470.01 1909.47 1471.07 Q1907.41 1472.14 1904.91 1472.14 Q1899.73 1472.14 1896.69 1469.01 Q1893.68 1465.87 1893.68 1460.43 Q1893.68 1455.1 1896.83 1451.88 Q1899.98 1448.67 1905.21 1448.67 Q1911.21 1448.67 1914.36 1453.27 Q1917.53 1457.86 1917.53 1466.61 Q1917.53 1474.78 1913.64 1479.66 Q1909.77 1484.52 1903.22 1484.52 Q1901.46 1484.52 1899.66 1484.18 Q1897.85 1483.83 1895.91 1483.13 M1905.21 1468.48 Q1908.36 1468.48 1910.19 1466.33 Q1912.04 1464.18 1912.04 1460.43 Q1912.04 1456.7 1910.19 1454.55 Q1908.36 1452.37 1905.21 1452.37 Q1902.06 1452.37 1900.21 1454.55 Q1898.38 1456.7 1898.38 1460.43 Q1898.38 1464.18 1900.21 1466.33 Q1902.06 1468.48 1905.21 1468.48 Z\" fill=\"#000000\" fill-rule=\"evenodd\" fill-opacity=\"1\" /><path clip-path=\"url(#clip070)\" d=\"M 0 0 M2263.93 1479.92 L2271.57 1479.92 L2271.57 1453.55 L2263.26 1455.22 L2263.26 1450.96 L2271.52 1449.29 L2276.2 1449.29 L2276.2 1479.92 L2283.84 1479.92 L2283.84 1483.85 L2263.93 1483.85 L2263.93 1479.92 Z\" fill=\"#000000\" fill-rule=\"evenodd\" fill-opacity=\"1\" /><path clip-path=\"url(#clip070)\" d=\"M 0 0 M2288.91 1477.97 L2293.79 1477.97 L2293.79 1483.85 L2288.91 1483.85 L2288.91 1477.97 Z\" fill=\"#000000\" fill-rule=\"evenodd\" fill-opacity=\"1\" /><path clip-path=\"url(#clip070)\" d=\"M 0 0 M2308.86 1452.37 Q2305.25 1452.37 2303.42 1455.94 Q2301.61 1459.48 2301.61 1466.61 Q2301.61 1473.71 2303.42 1477.28 Q2305.25 1480.82 2308.86 1480.82 Q2312.49 1480.82 2314.3 1477.28 Q2316.13 1473.71 2316.13 1466.61 Q2316.13 1459.48 2314.3 1455.94 Q2312.49 1452.37 2308.86 1452.37 M2308.86 1448.67 Q2314.67 1448.67 2317.72 1453.27 Q2320.8 1457.86 2320.8 1466.61 Q2320.8 1475.33 2317.72 1479.94 Q2314.67 1484.52 2308.86 1484.52 Q2303.05 1484.52 2299.97 1479.94 Q2296.91 1475.33 2296.91 1466.61 Q2296.91 1457.86 2299.97 1453.27 Q2303.05 1448.67 2308.86 1448.67 Z\" fill=\"#000000\" fill-rule=\"evenodd\" fill-opacity=\"1\" /><path clip-path=\"url(#clip070)\" d=\"M 0 0 M1296.55 1532.4 L1283.66 1549.74 L1297.22 1568.04 L1290.31 1568.04 L1279.93 1554.04 L1269.56 1568.04 L1262.65 1568.04 L1276.5 1549.39 L1263.83 1532.4 L1270.74 1532.4 L1280.19 1545.1 L1289.64 1532.4 L1296.55 1532.4 Z\" fill=\"#000000\" fill-rule=\"evenodd\" fill-opacity=\"1\" /><polyline clip-path=\"url(#clip072)\" style=\"stroke:#000000; stroke-width:2; stroke-opacity:0.1; fill:none\" points=\"\n",
       "  207.112,1256.97 2352.76,1256.97 \n",
       "  \"/>\n",
       "<polyline clip-path=\"url(#clip072)\" style=\"stroke:#000000; stroke-width:2; stroke-opacity:0.1; fill:none\" points=\"\n",
       "  207.112,952.225 2352.76,952.225 \n",
       "  \"/>\n",
       "<polyline clip-path=\"url(#clip072)\" style=\"stroke:#000000; stroke-width:2; stroke-opacity:0.1; fill:none\" points=\"\n",
       "  207.112,647.478 2352.76,647.478 \n",
       "  \"/>\n",
       "<polyline clip-path=\"url(#clip072)\" style=\"stroke:#000000; stroke-width:2; stroke-opacity:0.1; fill:none\" points=\"\n",
       "  207.112,342.731 2352.76,342.731 \n",
       "  \"/>\n",
       "<polyline clip-path=\"url(#clip070)\" style=\"stroke:#000000; stroke-width:4; stroke-opacity:1; fill:none\" points=\"\n",
       "  207.112,1423.18 207.112,47.2441 \n",
       "  \"/>\n",
       "<polyline clip-path=\"url(#clip070)\" style=\"stroke:#000000; stroke-width:4; stroke-opacity:1; fill:none\" points=\"\n",
       "  207.112,1256.97 232.859,1256.97 \n",
       "  \"/>\n",
       "<polyline clip-path=\"url(#clip070)\" style=\"stroke:#000000; stroke-width:4; stroke-opacity:1; fill:none\" points=\"\n",
       "  207.112,952.225 232.859,952.225 \n",
       "  \"/>\n",
       "<polyline clip-path=\"url(#clip070)\" style=\"stroke:#000000; stroke-width:4; stroke-opacity:1; fill:none\" points=\"\n",
       "  207.112,647.478 232.859,647.478 \n",
       "  \"/>\n",
       "<polyline clip-path=\"url(#clip070)\" style=\"stroke:#000000; stroke-width:4; stroke-opacity:1; fill:none\" points=\"\n",
       "  207.112,342.731 232.859,342.731 \n",
       "  \"/>\n",
       "<path clip-path=\"url(#clip070)\" d=\"M 0 0 M114.607 1257.42 L144.283 1257.42 L144.283 1261.36 L114.607 1261.36 L114.607 1257.42 Z\" fill=\"#000000\" fill-rule=\"evenodd\" fill-opacity=\"1\" /><path clip-path=\"url(#clip070)\" d=\"M 0 0 M149.491 1273.53 L149.491 1269.28 Q151.251 1270.11 153.056 1270.55 Q154.862 1270.99 156.598 1270.99 Q161.227 1270.99 163.658 1267.89 Q166.112 1264.76 166.459 1258.42 Q165.116 1260.41 163.056 1261.47 Q160.996 1262.54 158.496 1262.54 Q153.311 1262.54 150.278 1259.41 Q147.269 1256.27 147.269 1250.83 Q147.269 1245.5 150.417 1242.29 Q153.566 1239.07 158.797 1239.07 Q164.792 1239.07 167.94 1243.67 Q171.112 1248.26 171.112 1257.01 Q171.112 1265.18 167.223 1270.06 Q163.357 1274.92 156.806 1274.92 Q155.047 1274.92 153.241 1274.58 Q151.436 1274.23 149.491 1273.53 M158.797 1258.88 Q161.945 1258.88 163.774 1256.73 Q165.626 1254.58 165.626 1250.83 Q165.626 1247.1 163.774 1244.95 Q161.945 1242.77 158.797 1242.77 Q155.649 1242.77 153.797 1244.95 Q151.968 1247.1 151.968 1250.83 Q151.968 1254.58 153.797 1256.73 Q155.649 1258.88 158.797 1258.88 Z\" fill=\"#000000\" fill-rule=\"evenodd\" fill-opacity=\"1\" /><path clip-path=\"url(#clip070)\" d=\"M 0 0 M114.26 952.677 L143.936 952.677 L143.936 956.612 L114.26 956.612 L114.26 952.677 Z\" fill=\"#000000\" fill-rule=\"evenodd\" fill-opacity=\"1\" /><path clip-path=\"url(#clip070)\" d=\"M 0 0 M159.584 950.362 Q156.436 950.362 154.584 952.515 Q152.755 954.667 152.755 958.417 Q152.755 962.144 154.584 964.32 Q156.436 966.473 159.584 966.473 Q162.732 966.473 164.561 964.32 Q166.413 962.144 166.413 958.417 Q166.413 954.667 164.561 952.515 Q162.732 950.362 159.584 950.362 M168.866 935.709 L168.866 939.968 Q167.107 939.135 165.302 938.695 Q163.519 938.255 161.76 938.255 Q157.13 938.255 154.677 941.38 Q152.246 944.505 151.899 950.825 Q153.265 948.811 155.325 947.746 Q157.385 946.658 159.862 946.658 Q165.07 946.658 168.079 949.829 Q171.112 952.977 171.112 958.417 Q171.112 963.741 167.964 966.959 Q164.815 970.176 159.584 970.176 Q153.589 970.176 150.417 965.593 Q147.246 960.987 147.246 952.26 Q147.246 944.065 151.135 939.204 Q155.024 934.32 161.575 934.32 Q163.334 934.32 165.116 934.667 Q166.922 935.015 168.866 935.709 Z\" fill=\"#000000\" fill-rule=\"evenodd\" fill-opacity=\"1\" /><path clip-path=\"url(#clip070)\" d=\"M 0 0 M115.07 647.929 L144.746 647.929 L144.746 651.864 L115.07 651.864 L115.07 647.929 Z\" fill=\"#000000\" fill-rule=\"evenodd\" fill-opacity=\"1\" /><path clip-path=\"url(#clip070)\" d=\"M 0 0 M163.982 646.124 Q167.339 646.841 169.214 649.11 Q171.112 651.378 171.112 654.712 Q171.112 659.827 167.593 662.628 Q164.075 665.429 157.593 665.429 Q155.417 665.429 153.103 664.989 Q150.811 664.573 148.357 663.716 L148.357 659.202 Q150.302 660.337 152.616 660.915 Q154.931 661.494 157.454 661.494 Q161.852 661.494 164.144 659.758 Q166.459 658.022 166.459 654.712 Q166.459 651.656 164.306 649.943 Q162.177 648.207 158.357 648.207 L154.329 648.207 L154.329 644.364 L158.542 644.364 Q161.991 644.364 163.82 642.999 Q165.649 641.61 165.649 639.017 Q165.649 636.355 163.751 634.943 Q161.876 633.508 158.357 633.508 Q156.436 633.508 154.237 633.925 Q152.038 634.341 149.399 635.221 L149.399 631.054 Q152.061 630.314 154.376 629.943 Q156.714 629.573 158.774 629.573 Q164.098 629.573 167.2 632.003 Q170.302 634.411 170.302 638.531 Q170.302 641.402 168.658 643.392 Q167.015 645.36 163.982 646.124 Z\" fill=\"#000000\" fill-rule=\"evenodd\" fill-opacity=\"1\" /><path clip-path=\"url(#clip070)\" d=\"M 0 0 M159.167 328.529 Q155.556 328.529 153.728 332.094 Q151.922 335.636 151.922 342.765 Q151.922 349.872 153.728 353.437 Q155.556 356.978 159.167 356.978 Q162.802 356.978 164.607 353.437 Q166.436 349.872 166.436 342.765 Q166.436 335.636 164.607 332.094 Q162.802 328.529 159.167 328.529 M159.167 324.826 Q164.977 324.826 168.033 329.432 Q171.112 334.015 171.112 342.765 Q171.112 351.492 168.033 356.099 Q164.977 360.682 159.167 360.682 Q153.357 360.682 150.278 356.099 Q147.223 351.492 147.223 342.765 Q147.223 334.015 150.278 329.432 Q153.357 324.826 159.167 324.826 Z\" fill=\"#000000\" fill-rule=\"evenodd\" fill-opacity=\"1\" /><path clip-path=\"url(#clip070)\" d=\"M 0 0 M67.3143 733.525 Q73.68 736.008 75.6216 738.363 Q77.5631 740.718 77.5631 744.665 L77.5631 749.344 L72.6615 749.344 L72.6615 745.906 Q72.6615 743.487 71.5157 742.151 Q70.3699 740.814 66.1048 739.191 L63.4312 738.14 L28.3562 752.559 L28.3562 746.352 L56.238 735.212 L28.3562 724.072 L28.3562 717.865 L67.3143 733.525 Z\" fill=\"#000000\" fill-rule=\"evenodd\" fill-opacity=\"1\" /><polyline clip-path=\"url(#clip072)\" style=\"stroke:#009af9; stroke-width:4; stroke-opacity:1; fill:none\" points=\"\n",
       "  267.837,1089.63 287.605,1062.84 470.388,826.054 580.233,694.169 673.105,589.56 773.991,483.889 866.998,394.641 966.712,308.726 1082.24,223.539 1184.91,162.662 \n",
       "  1274.94,122.459 1324.02,106.341 1373.1,94.6944 1422.47,87.8256 1471.84,86.1857 1526.42,90.9457 1581.01,103.19 1632.94,122.395 1684.88,149.607 1738.88,187.144 \n",
       "  1792.88,234.962 1838.34,283.891 1883.8,341.424 1939.3,424.349 1994.8,522.55 2020.88,574.425 2046.97,630.199 2073.06,690.06 2099.14,754.21 2140.93,866.451 \n",
       "  2182.72,991.18 2224.51,1129.42 2266.3,1282.31 2272.74,1307.22 2279.17,1332.5 2285.6,1358.18 2292.03,1384.24 \n",
       "  \"/>\n",
       "<path clip-path=\"url(#clip070)\" d=\"\n",
       "M1991.81 214.069 L2281.23 214.069 L2281.23 93.1086 L1991.81 93.1086  Z\n",
       "  \" fill=\"#ffffff\" fill-rule=\"evenodd\" fill-opacity=\"1\"/>\n",
       "<polyline clip-path=\"url(#clip070)\" style=\"stroke:#000000; stroke-width:4; stroke-opacity:1; fill:none\" points=\"\n",
       "  1991.81,214.069 2281.23,214.069 2281.23,93.1086 1991.81,93.1086 1991.81,214.069 \n",
       "  \"/>\n",
       "<polyline clip-path=\"url(#clip070)\" style=\"stroke:#009af9; stroke-width:4; stroke-opacity:1; fill:none\" points=\"\n",
       "  2015.65,153.589 2158.69,153.589 \n",
       "  \"/>\n",
       "<path clip-path=\"url(#clip070)\" d=\"M 0 0 M2196.38 173.276 Q2194.57 177.906 2192.86 179.318 Q2191.15 180.73 2188.28 180.73 L2184.87 180.73 L2184.87 177.165 L2187.37 177.165 Q2189.13 177.165 2190.1 176.332 Q2191.08 175.498 2192.26 172.396 L2193.02 170.452 L2182.54 144.943 L2187.05 144.943 L2195.15 165.221 L2203.25 144.943 L2207.77 144.943 L2196.38 173.276 Z\" fill=\"#000000\" fill-rule=\"evenodd\" fill-opacity=\"1\" /><path clip-path=\"url(#clip070)\" d=\"M 0 0 M2213.65 166.933 L2221.28 166.933 L2221.28 140.568 L2212.97 142.235 L2212.97 137.975 L2221.24 136.309 L2225.91 136.309 L2225.91 166.933 L2233.55 166.933 L2233.55 170.869 L2213.65 170.869 L2213.65 166.933 Z\" fill=\"#000000\" fill-rule=\"evenodd\" fill-opacity=\"1\" /></svg>\n"
      ]
     },
     "execution_count": 20,
     "metadata": {},
     "output_type": "execute_result"
    }
   ],
   "source": [
    "plot(f6, 0.5, 1.)"
   ]
  },
  {
   "cell_type": "markdown",
   "id": "amazing-techno",
   "metadata": {},
   "source": [
    "## Questão 7"
   ]
  },
  {
   "cell_type": "code",
   "execution_count": 21,
   "id": "automatic-guitar",
   "metadata": {},
   "outputs": [],
   "source": [
    "Q7(S, H, n, B) = sqrt(S) * (B*H)^(5/3.) / (n*(B+2*H)^2/3.)\n",
    "f7(H) = Q7(0.0002, H, 0.03, 20.) - 5.;"
   ]
  },
  {
   "cell_type": "code",
   "execution_count": 22,
   "id": "correct-marina",
   "metadata": {},
   "outputs": [
    {
     "data": {
      "text/plain": [
       "([5.0, 7.5, 8.75, 8.125, 7.8125, 7.65625, 7.734375, 7.6953125, 7.71484375, 7.705078125, 7.7099609375, 7.71240234375], 11)"
      ]
     },
     "execution_count": 22,
     "metadata": {},
     "output_type": "execute_result"
    }
   ],
   "source": [
    "x_b, nite_b = cn_bisection(f7, 0., 10., err=x->err_rel(f7,x), tol=0.05/100.)"
   ]
  }
 ],
 "metadata": {
  "kernelspec": {
   "display_name": "Julia 1.5.3",
   "language": "julia",
   "name": "julia-1.5"
  },
  "language_info": {
   "file_extension": ".jl",
   "mimetype": "application/julia",
   "name": "julia",
   "version": "1.5.3"
  }
 },
 "nbformat": 4,
 "nbformat_minor": 5
}
