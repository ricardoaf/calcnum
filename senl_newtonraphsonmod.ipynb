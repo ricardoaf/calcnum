{
 "cells": [
  {
   "cell_type": "markdown",
   "id": "hollow-treasurer",
   "metadata": {},
   "source": [
    "# Sistemas de Equações não Lineares\n",
    "Material didático com implementação do método de **Newton-Raphson modificado** usando [Julia](http://julialang.org/)\n",
    "\n",
    "- *Disciplinas*: **EAMB018-A**, **EPET019-A**\n",
    "- *Professores*: [Adeildo S. Ramos Jr](mailto:adramos@ctec.ufal.br), [Luciana C. L. M. Vieira](mailto:luciana.vieira@ctec.ufal.br)\n",
    "- *Tutores*: [Leonardo T. Ferreira](mailto:leonardo.ferreira@ctec.ufal.br), [Paulo Victor L. Santos](mailto:paulo.santos@ctec.ufal.br), [Ricardo A. Fernandes](mailto:ricardo.fernandes@ctec.ufal.br)"
   ]
  },
  {
   "cell_type": "markdown",
   "id": "worthy-button",
   "metadata": {},
   "source": [
    "# Método de Newton-Raphson Modificado"
   ]
  },
  {
   "cell_type": "code",
   "execution_count": 1,
   "id": "imported-night",
   "metadata": {},
   "outputs": [],
   "source": [
    "using LinearAlgebra\n",
    "\n",
    "# Implementação do método de Newton-Raphson modificado para solução de sistemas de equações não lineares\n",
    "function newtonraphsonmod(F, J, x; tol=1e-4, nitemax=200)\n",
    "    \n",
    "    # Argumentos de entrada da função newtonraphsonmod\n",
    "    #-------------------------------------------------\n",
    "    # F: função que calcula o vetor de funções\n",
    "    # J: função que calcula a matriz jacobiana\n",
    "    # x: vetor com a estimativa inicial para as variáveis\n",
    "    # tol: valor de tolerância para a convergência do método (padrão: 1e-4)\n",
    "    # nitemax: número máximo de iterações (padrão: 200)\n",
    "    \n",
    "    # Inicialização do número de iterações\n",
    "    nite = 0\n",
    "    \n",
    "    # Determinação da matriz jacobiana com a estimativa inicial\n",
    "    J0 = J(x)\n",
    "    \n",
    "    # Procedimento iterativo\n",
    "    while norm(F(x))>tol && nite<nitemax\n",
    "        \n",
    "        # Atualização das variáveis com a equação de recorrência do método\n",
    "        x = x - J0 \\ F(x)\n",
    "        \n",
    "        # Atualização do número de iterações\n",
    "        nite = nite + 1\n",
    "    end\n",
    "    \n",
    "    # Argumentos de saída da função newtonraphsonmod\n",
    "    #-----------------------------------------------\n",
    "    # x: vetor com a estimativa de solução para as variáveis\n",
    "    # nite: número de iterações realizadas\n",
    "    # err: valor do erro associado\n",
    "    \n",
    "    err = norm(F(x))\n",
    "    return x, nite, err\n",
    "end;"
   ]
  },
  {
   "cell_type": "markdown",
   "id": "black-rover",
   "metadata": {},
   "source": [
    "## Aplicação"
   ]
  },
  {
   "cell_type": "code",
   "execution_count": 2,
   "id": "rotary-kazakhstan",
   "metadata": {},
   "outputs": [
    {
     "name": "stdout",
     "output_type": "stream",
     "text": [
      "Estimativa da solução: [-0.05859375, 3.05859375]\n",
      "número de iterações: 2\n",
      "Erro associado: 0.358428955078125\n"
     ]
    }
   ],
   "source": [
    "# Considere o sistema dado por\n",
    "F(x) = [ x[1] + x[2] - 3.0, x[1]^2 + x[2]^2 - 9.0 ]\n",
    "\n",
    "# A matriz jacobiana é calculada como\n",
    "#J(x) = [ 1.0 1.0; 2.0*x[1] 2.0*x[2] ]\n",
    "# ou ainda\n",
    "using ForwardDiff\n",
    "J(x) = ForwardDiff.jacobian(F, x)\n",
    "\n",
    "# Adota-se o chute inicial\n",
    "x0 = [1.0, 5.0]\n",
    "\n",
    "# Chamada à função newtonraphsonmod, limitando o resultado a 2 iterações!\n",
    "x_, nite_, err_ = newtonraphsonmod(F, J, x0, nitemax=2)\n",
    "\n",
    "# Verificação dos resultados\n",
    "println(\"Estimativa da solução: \", x_)\n",
    "println(\"número de iterações: \", nite_)\n",
    "println(\"Erro associado: \", err_)"
   ]
  },
  {
   "cell_type": "code",
   "execution_count": 3,
   "id": "historic-calvin",
   "metadata": {},
   "outputs": [
    {
     "name": "stdout",
     "output_type": "stream",
     "text": [
      "Estimativa da solução: [-1.3221347777592207e-5, 3.0000132213477775]\n",
      "número de iterações: 8\n",
      "Erro associado: 7.932843627322939e-5\n"
     ]
    }
   ],
   "source": [
    "# Agora, considerando os valores padrão para tolerância (1e-4) e número máximo de iterações (200)\n",
    "x, nite, err = newtonraphsonmod(F, J, x0)\n",
    "\n",
    "# Verificação dos resultados\n",
    "println(\"Estimativa da solução: \", x)\n",
    "println(\"número de iterações: \", nite)\n",
    "println(\"Erro associado: \", err)"
   ]
  }
 ],
 "metadata": {
  "kernelspec": {
   "display_name": "Julia 1.5.3",
   "language": "julia",
   "name": "julia-1.5"
  },
  "language_info": {
   "file_extension": ".jl",
   "mimetype": "application/julia",
   "name": "julia",
   "version": "1.5.3"
  }
 },
 "nbformat": 4,
 "nbformat_minor": 5
}
