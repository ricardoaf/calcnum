{
 "cells": [
  {
   "cell_type": "markdown",
   "id": "regional-country",
   "metadata": {},
   "source": [
    "# Sistema de Equações Lineares (Métodos Diretos)\n",
    "Noções de métodos diretos de solução numérica para sistemas de equações lineares usando [Julia](http://julialang.org/)\n",
    "\n",
    "- *Disciplinas*: **EAMB018-A**, **EPET019-A**\n",
    "- *Professores*: [Adeildo S. Ramos Jr](mailto:adramos@ctec.ufal.br), [Luciana C. L. M. Vieira](mailto:luciana.vieira@ctec.ufal.br)\n",
    "- *Tutores*: [Leonardo T. Ferreira](mailto:leonardo.ferreira@ctec.ufal.br), [Paulo Victor L. Santos](mailto:paulo.santos@ctec.ufal.br), [Ricardo A. Fernandes](mailto:ricardo.fernandes@ctec.ufal.br)\n",
    "\n",
    "\n",
    "- Referências:\n",
    "    - Notas de aula\n",
    "    - Bezanson, J.; Edelman, A.; Karpinski, S.; Shah V. B. (2017) Julia: A Fresh Approach to Numerical Computing. SIAM Review, 59: 65-98."
   ]
  },
  {
   "cell_type": "markdown",
   "id": "accepting-prisoner",
   "metadata": {},
   "source": [
    "## Método da Eliminação de Gauss\n",
    "A solução usando o Método da Eliminação de Gauss consiste em **duas etapas**:\n",
    "- Transformação do sistema original em um sistema equivalente usando uma matriz triangular superior\n",
    "- Resolução do sistema equivalente"
   ]
  },
  {
   "cell_type": "markdown",
   "id": "mineral-dylan",
   "metadata": {},
   "source": [
    "### Resolução do Sistema Equivalente\n",
    "Dado um sistema triangular superior $n$x$n$ com elementos da diagonal de $A$ não nulos, resolve $A x = b$."
   ]
  },
  {
   "cell_type": "code",
   "execution_count": 1,
   "id": "sticky-hearing",
   "metadata": {},
   "outputs": [],
   "source": [
    "using LinearAlgebra\n",
    "\n",
    "function cn_uppersolver(A::Matrix{Float64}, b::Vector{Float64})    \n",
    "    n = length(b)\n",
    "    @assert size(A) == (n, n)\n",
    "    @assert istriu(A)\n",
    "    \n",
    "    x = zeros(n)\n",
    "    for i = n : -1 : 1\n",
    "        s = A[i, i+1 : n] ⋅ x[i+1 : n]\n",
    "        x[i] = (b[i] - s) / A[i, i]\n",
    "    end\n",
    "    return x\n",
    "end;"
   ]
  },
  {
   "cell_type": "markdown",
   "id": "stable-harvard",
   "metadata": {},
   "source": [
    "#### Exemplo"
   ]
  },
  {
   "cell_type": "code",
   "execution_count": 2,
   "id": "settled-pittsburgh",
   "metadata": {},
   "outputs": [
    {
     "name": "stdout",
     "output_type": "stream",
     "text": [
      "x: [-3.0000000000000004, 5.000000000000001, -0.0]\n",
      "err: [0.0, 0.0, 0.0]\n"
     ]
    }
   ],
   "source": [
    "# Matriz A 3x3 triangular superior\n",
    "A = [3 2 4;\n",
    "    0 1/3 2/3;\n",
    "    0 0 -8]\n",
    "\n",
    "# Vetor b 3x1 de constantes\n",
    "b = [1, 5/3, 0]\n",
    "\n",
    "# Criando cópias de A e b\n",
    "A_, b_ = copy(A), copy(b)\n",
    "\n",
    "# Resolver sistema equivalente\n",
    "x = cn_uppersolver(A, b)\n",
    "println(\"x: \", x)\n",
    "\n",
    "# Comparação com solver built-in (\\)\n",
    "x_ = A_ \\ b_\n",
    "println(\"err: \", x - x_)"
   ]
  },
  {
   "cell_type": "markdown",
   "id": "indonesian-mixture",
   "metadata": {},
   "source": [
    "### Escalonamento (Cálculo do Sistema Equivalente)\n",
    "Percorre os elementos abaixo da diagonal principal, transformando-os, por meio de operações elementares, em zeros, e garantindo que os elementos que já foram transformados anteriormente não sejam mais modificados.\n",
    "\n",
    "- Operações elementates (não alteram a solução do sistema)\n",
    "  - Permutar duas equações do sistema\n",
    "  - Multiplicar uma das equações do sistema por um número real não nulo\n",
    "  - Somar a uma das equações do sistema uma outra equação desse sistema multiplicada por um número real"
   ]
  },
  {
   "cell_type": "code",
   "execution_count": 3,
   "id": "political-beast",
   "metadata": {},
   "outputs": [],
   "source": [
    "function cn_upperfac!(A::Matrix{Float64}, b::Vector{Float64}; pivot=true)  \n",
    "    n = length(b)\n",
    "    @assert size(A) == (n, n)\n",
    "    \n",
    "    for j = 1 : n-1\n",
    "        for i = j+1 : n\n",
    "            \n",
    "            if pivot; cn_pivot!(A, b, j); end\n",
    "            \n",
    "            m = A[i, j] / A[j, j]\n",
    "            A[i, j] = 0\n",
    "            \n",
    "            A[i, j+1:n] -= m * A[j, j+1:n]\n",
    "            b[i] -= m * b[j]\n",
    "        end\n",
    "    end\n",
    "end;"
   ]
  },
  {
   "cell_type": "code",
   "execution_count": 4,
   "id": "decimal-digit",
   "metadata": {},
   "outputs": [],
   "source": [
    "function cn_pivot!(A, b, j)\n",
    "    if abs(A[j, j]) < eps()\n",
    "        _, i_max = findmax(abs.(A[:, j]))\n",
    "        A[[i_max, j], :] = A[[j, i_max], :]\n",
    "        b[[i_max, j]] = b[[j, i_max]]\n",
    "    end\n",
    "end;"
   ]
  },
  {
   "cell_type": "markdown",
   "id": "related-onion",
   "metadata": {},
   "source": [
    "#### Exemplo sem pivoteamento"
   ]
  },
  {
   "cell_type": "code",
   "execution_count": 5,
   "id": "retained-dominant",
   "metadata": {},
   "outputs": [
    {
     "name": "stdout",
     "output_type": "stream",
     "text": [
      "A = [2.0 1.0 3.0 4.0; 0.0 3.5 0.5 -1.0; 0.0 0.0 -3.5714285714285716 -1.8571428571428572; 0.0 0.0 0.0 -2.64]\n",
      "b = [17.0, 0.5, -5.571428571428571, -7.92]\n"
     ]
    }
   ],
   "source": [
    "# Matriz A 4x4 (original, antes do escalonamento)\n",
    "A = [2.0 1.0 3.0 4.0;\n",
    "    1.0 4.0 2.0 1.0;\n",
    "    3.0 2.0 1.0 4.0;\n",
    "    2.0 2.0 3.0 1.0]\n",
    "\n",
    "# Vetor b 4x1 (original, antes do escalonamento)\n",
    "b = [17.0, 9.0, 20.0, 9.0];\n",
    "\n",
    "# Escalonamento do sistema\n",
    "cn_upperfac!(A, b, pivot=false)\n",
    "println(\"A = \", A); println(\"b = \", b)"
   ]
  },
  {
   "cell_type": "markdown",
   "id": "chubby-cardiff",
   "metadata": {},
   "source": [
    "#### Exemplo com pivoteamento"
   ]
  },
  {
   "cell_type": "code",
   "execution_count": 6,
   "id": "chief-lying",
   "metadata": {},
   "outputs": [
    {
     "name": "stdout",
     "output_type": "stream",
     "text": [
      "A = [5.0 10.0 1.0 -2.0; 0.0 0.0 1.2 0.6000000000000001; 0.0 0.0 Inf Inf; 0.0 0.0 0.0 NaN]\n",
      "b = [-5.0, 7.0, Inf, NaN]\n"
     ]
    }
   ],
   "source": [
    "# Matriz A 4x4 (original, antes do escalonamento)\n",
    "A = [5.0 10.0 1.0 -2.0;\n",
    "    4.0 8.0 2.0 -1.0;\n",
    "    10.0 5.0 3.0 1.0;\n",
    "    2.0 1.0 1.0 2.0]\n",
    "\n",
    "# Vetor b 4x1 (original, antes do escalonamento)\n",
    "b = [-5.0, 3.0, 9.0, 12.0]\n",
    "\n",
    "# Criando cópias de A e b\n",
    "A_, b_ = copy(A), copy(b)\n",
    "\n",
    "# Escalonamento do sistema (SEM pivoteamento)\n",
    "cn_upperfac!(A_, b_, pivot=false)\n",
    "println(\"A = \", A_); println(\"b = \", b_)"
   ]
  },
  {
   "cell_type": "code",
   "execution_count": 7,
   "id": "certified-surgeon",
   "metadata": {},
   "outputs": [
    {
     "name": "stdout",
     "output_type": "stream",
     "text": [
      "A = [5.0 10.0 1.0 -2.0; 0.0 -15.0 1.0 5.0; 0.0 0.0 1.2 0.6000000000000001; 0.0 0.0 0.0 1.5999999999999999]\n",
      "b = [-5.0, 19.0, 7.0, 7.866666666666666]\n"
     ]
    }
   ],
   "source": [
    "# Escalonamento do sistema (COM pivoteamento)\n",
    "cn_upperfac!(A, b, pivot=true)\n",
    "println(\"A = \", A); println(\"b = \", b)"
   ]
  },
  {
   "cell_type": "markdown",
   "id": "charitable-function",
   "metadata": {},
   "source": [
    "### Implementação: Método da Eliminação de Gauss\n",
    "\n",
    "- Evita o cálculo da inversa de $A$\n",
    "- Consiste em transformar o sistema linear original em um sistema linear equivalente com matriz dos coeficientes triangular superior"
   ]
  },
  {
   "cell_type": "code",
   "execution_count": 8,
   "id": "varying-sympathy",
   "metadata": {},
   "outputs": [],
   "source": [
    "function cn_gausselimation(A::Matrix{Float64}, b::Vector{Float64}; pivot=true)\n",
    "    n = length(b)\n",
    "    @assert size(A) == (n, n)\n",
    "    @assert abs(det(A)) > eps()\n",
    "    \n",
    "    cn_upperfac!(A, b, pivot=pivot)\n",
    "    return cn_uppersolver(A, b)\n",
    "end;"
   ]
  },
  {
   "cell_type": "markdown",
   "id": "wrong-spotlight",
   "metadata": {},
   "source": [
    "#### Exemplo"
   ]
  },
  {
   "cell_type": "code",
   "execution_count": 9,
   "id": "restricted-disease",
   "metadata": {},
   "outputs": [
    {
     "name": "stdout",
     "output_type": "stream",
     "text": [
      "x: [-0.0004980305317037192, 0.015177065304773493, 0.3789649003855466, -0.6396052636062989]\n",
      "err: [-8.070562447504148e-14, -1.5959455978986625e-15, -1.0624834345662748e-13, 1.0880185641326534e-14]\n"
     ]
    }
   ],
   "source": [
    "# Matriz A 4x4 \n",
    "A = [0.001 3 -0.25 -2;\n",
    "    583 0.02 -1 -2.5;\n",
    "    6 492 -10.3 -2;\n",
    "    2 3 4 -1]\n",
    "\n",
    "# Vetor b 4x1\n",
    "b = [1.23, 0.93, 4.84, 2.2]\n",
    "\n",
    "# Criando cópias de A e b\n",
    "A_, b_ = copy(A), copy(b)\n",
    "\n",
    "# Resolução usando Eliminação de Gauss\n",
    "x = cn_gausselimation(A, b)\n",
    "println(\"x: \", x)\n",
    "\n",
    "# Comparação com solver built-in (\\)\n",
    "x_ = A_ \\ b_\n",
    "println(\"err: \", x - x_)"
   ]
  }
 ],
 "metadata": {
  "kernelspec": {
   "display_name": "Julia 1.5.3",
   "language": "julia",
   "name": "julia-1.5"
  },
  "language_info": {
   "file_extension": ".jl",
   "mimetype": "application/julia",
   "name": "julia",
   "version": "1.5.3"
  }
 },
 "nbformat": 4,
 "nbformat_minor": 5
}
